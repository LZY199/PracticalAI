{
  "nbformat": 4,
  "nbformat_minor": 0,
  "metadata": {
    "colab": {
      "name": "NumPy_basic.ipynb",
      "provenance": [],
      "collapsed_sections": [],
      "authorship_tag": "ABX9TyMUy7w5ac/6xpCt3z3xMCbc",
      "include_colab_link": true
    },
    "kernelspec": {
      "name": "python3",
      "display_name": "Python 3"
    }
  },
  "cells": [
    {
      "cell_type": "markdown",
      "metadata": {
        "id": "view-in-github",
        "colab_type": "text"
      },
      "source": [
        "<a href=\"https://colab.research.google.com/github/LZY199/PracticalAI/blob/main/NumPy_basic.ipynb\" target=\"_parent\"><img src=\"https://colab.research.google.com/assets/colab-badge.svg\" alt=\"Open In Colab\"/></a>"
      ]
    },
    {
      "cell_type": "code",
      "metadata": {
        "id": "8vxu2Yy6t6CJ"
      },
      "source": [
        "import numpy as np\r\n",
        "# By setting seed(can be any value), to ensure always get the same random number(as long as the seed value is the same)\r\n",
        "np.random.seed(1234)"
      ],
      "execution_count": 10,
      "outputs": []
    },
    {
      "cell_type": "code",
      "metadata": {
        "colab": {
          "base_uri": "https://localhost:8080/"
        },
        "id": "U62Evd2xxPvu",
        "outputId": "d9a7d0d0-4c81-405a-d69f-1f9e3703ea74"
      },
      "source": [
        "#scalars\r\n",
        "x = np.array(6)\r\n",
        "print(\"x: \", x)\r\n",
        "print(\"x ndim: \", x.ndim)\r\n",
        "print(\"x shape: \", x.shape)\r\n",
        "print(\"x size: \", x.size)\r\n",
        "print(\"x dtype: \", x.dtype)"
      ],
      "execution_count": 11,
      "outputs": [
        {
          "output_type": "stream",
          "text": [
            "x:  6\n",
            "x ndim:  0\n",
            "x shape:  ()\n",
            "x size:  1\n",
            "x dtype:  int64\n"
          ],
          "name": "stdout"
        }
      ]
    },
    {
      "cell_type": "code",
      "metadata": {
        "colab": {
          "base_uri": "https://localhost:8080/"
        },
        "id": "9lLV3blAxt08",
        "outputId": "25d99aa7-7a9c-4f06-c910-aed722dff462"
      },
      "source": [
        "#1 dimension array\r\n",
        "x = np.array([1.3, 2.2, 1.7])\r\n",
        "print(\"x: \", x)\r\n",
        "print(\"x ndim: \", x.ndim)\r\n",
        "print(\"x shape: \", x.shape)\r\n",
        "print(\"x size: \", x.size)\r\n",
        "print(\"x dtype: \", x.dtype)"
      ],
      "execution_count": 12,
      "outputs": [
        {
          "output_type": "stream",
          "text": [
            "x:  [1.3 2.2 1.7]\n",
            "x ndim:  1\n",
            "x shape:  (3,)\n",
            "x size:  3\n",
            "x dtype:  float64\n"
          ],
          "name": "stdout"
        }
      ]
    },
    {
      "cell_type": "code",
      "metadata": {
        "colab": {
          "base_uri": "https://localhost:8080/"
        },
        "id": "wOXtuQgezZSk",
        "outputId": "45dff100-8287-4ba1-d333-5276d6d18ea6"
      },
      "source": [
        "#2 dimension array\r\n",
        "x = np.array([[1,2,3], [4,5,6]])\r\n",
        "print(\"x: \", x)\r\n",
        "print(\"x ndim: \", x.ndim)\r\n",
        "print(\"x shape: \", x.shape)\r\n",
        "print(\"x size: \", x.size)\r\n",
        "print(\"x dtype: \", x.dtype)"
      ],
      "execution_count": 13,
      "outputs": [
        {
          "output_type": "stream",
          "text": [
            "x:  [[1 2 3]\n",
            " [4 5 6]]\n",
            "x ndim:  2\n",
            "x shape:  (2, 3)\n",
            "x size:  6\n",
            "x dtype:  int64\n"
          ],
          "name": "stdout"
        }
      ]
    },
    {
      "cell_type": "code",
      "metadata": {
        "colab": {
          "base_uri": "https://localhost:8080/"
        },
        "id": "p56JdZe3mhhs",
        "outputId": "f0a8e0ff-5a44-42b3-b766-242f36c61889"
      },
      "source": [
        "#3 dimension array\r\n",
        "#Notes:\r\n",
        "#shape(m,n,k...) means:\r\n",
        "# In the array, from the most outsdie bracket, there are \"m\" elements who has \"n\" elements who has \"k\" elements......\r\n",
        "x = np.array([[[1,2,3], [4,5,6]],[[7,8,9], [10,11,12]]])\r\n",
        "print(\"x: \", x)\r\n",
        "print(\"x ndim: \", x.ndim)\r\n",
        "print(\"x shape: \", x.shape) \r\n",
        "print(\"x size: \", x.size)\r\n",
        "print(\"x dtype: \", x.dtype)"
      ],
      "execution_count": 48,
      "outputs": [
        {
          "output_type": "stream",
          "text": [
            "x:  [[[ 1  2  3]\n",
            "  [ 4  5  6]]\n",
            "\n",
            " [[ 7  8  9]\n",
            "  [10 11 12]]]\n",
            "x ndim:  3\n",
            "x shape:  (2, 2, 3)\n",
            "x size:  12\n",
            "x dtype:  int64\n"
          ],
          "name": "stdout"
        }
      ]
    },
    {
      "cell_type": "code",
      "metadata": {
        "colab": {
          "base_uri": "https://localhost:8080/"
        },
        "id": "qMAwHGdKzj48",
        "outputId": "fdd98a2a-6713-4e1e-ab3b-f1168c6dbd6a"
      },
      "source": [
        "#functions\r\n",
        "print(\"np.zeros((2,2)):\\n\", np.zeros((2,2)))\r\n",
        "print(\"np.ones((2,2)):\\n\", np.ones((2,2)))\r\n",
        "print(\"np.eye((2)):\\n\", np.eye((2)))\r\n",
        "print(\"np.random.random((2,2)):\\n\", np.random.random((2,2)))"
      ],
      "execution_count": 15,
      "outputs": [
        {
          "output_type": "stream",
          "text": [
            "np.zeros((2,2)):\n",
            " [[0. 0.]\n",
            " [0. 0.]]\n",
            "np.ones((2,2)):\n",
            " [[1. 1.]\n",
            " [1. 1.]]\n",
            "np.eye((2)):\n",
            " [[1. 0.]\n",
            " [0. 1.]]\n",
            "np.random.random((2,2)):\n",
            " [[0.19151945 0.62210877]\n",
            " [0.43772774 0.78535858]]\n"
          ],
          "name": "stdout"
        }
      ]
    },
    {
      "cell_type": "code",
      "metadata": {
        "id": "i3zgxEgq1OIN",
        "colab": {
          "base_uri": "https://localhost:8080/"
        },
        "outputId": "7240f511-392f-4717-df89-d81b38294bfa"
      },
      "source": [
        "#indexing\r\n",
        "#slicing\r\n",
        "x = np.array([[1,2,3,4], [5,6,7,8], [9,10,11,12]])\r\n",
        "print (x)\r\n",
        "print (\"x column 1: \", x[:, 1]) \r\n",
        "print (\"x row 0: \", x[0, :]) \r\n",
        "print (\"x rows 0,1,2 & cols 1,2: \\n\", x[0:3, 1:3]) "
      ],
      "execution_count": 16,
      "outputs": [
        {
          "output_type": "stream",
          "text": [
            "[[ 1  2  3  4]\n",
            " [ 5  6  7  8]\n",
            " [ 9 10 11 12]]\n",
            "x column 1:  [ 2  6 10]\n",
            "x row 0:  [1 2 3 4]\n",
            "x rows 0,1,2 & cols 1,2: \n",
            " [[ 2  3]\n",
            " [ 6  7]\n",
            " [10 11]]\n"
          ],
          "name": "stdout"
        }
      ]
    },
    {
      "cell_type": "code",
      "metadata": {
        "colab": {
          "base_uri": "https://localhost:8080/"
        },
        "id": "tJQJXf-8rmW-",
        "outputId": "fd4695fa-3ff2-43e2-8e8d-d791c74eda66"
      },
      "source": [
        "#Int array indexing\r\n",
        "x = np.array([[1,2,3,4], [5,6,7,8], [9,10,11,12]])\r\n",
        "print(x)\r\n",
        "print(\"len(x): \", len(x))\r\n",
        "rows_to_get = np.arange(len(x))\r\n",
        "print(\"rows_to_get:\", rows_to_get)\r\n",
        "cols_to_get = np.array([0, 2, 1])\r\n",
        "print(\"clos_to_get:\", cols_to_get)\r\n",
        "print(\"indexed elements in x:\", x[rows_to_get, cols_to_get]) "
      ],
      "execution_count": 21,
      "outputs": [
        {
          "output_type": "stream",
          "text": [
            "[[ 1  2  3  4]\n",
            " [ 5  6  7  8]\n",
            " [ 9 10 11 12]]\n",
            "len(x):  3\n",
            "rows_to_get: [0 1 2]\n",
            "clos_to_get: [0 2 1]\n",
            "indexed elements in x: [ 1  7 10]\n"
          ],
          "name": "stdout"
        }
      ]
    },
    {
      "cell_type": "code",
      "metadata": {
        "colab": {
          "base_uri": "https://localhost:8080/"
        },
        "id": "r7Qu_qhHu9NF",
        "outputId": "95557d9a-d8e5-4149-a04e-d073b4153451"
      },
      "source": [
        "#boolean array indexing\r\n",
        "x = np.array([[1,2],[3,4],[5,6]])\r\n",
        "print(\"x:\\n\", x)\r\n",
        "print(\"x>2:\\n\", x>2)\r\n",
        "print(\"x[x>2]:\\n\", x[(x>2) & (x<6)])"
      ],
      "execution_count": 26,
      "outputs": [
        {
          "output_type": "stream",
          "text": [
            "x:\n",
            " [[1 2]\n",
            " [3 4]\n",
            " [5 6]]\n",
            "x>2:\n",
            " [[False False]\n",
            " [ True  True]\n",
            " [ True  True]]\n",
            "x[x>2]:\n",
            " [3 4 5]\n"
          ],
          "name": "stdout"
        }
      ]
    },
    {
      "cell_type": "code",
      "metadata": {
        "colab": {
          "base_uri": "https://localhost:8080/"
        },
        "id": "3xRSb3xBw53c",
        "outputId": "02461690-89b6-4dbe-cfae-790f1595c383"
      },
      "source": [
        "# numpy math\r\n",
        "x = np.array([[1,2],[3,4]], dtype=np.float64)\r\n",
        "y = np.array([[1,2],[3,4]], dtype=np.float64)\r\n",
        "print(\"x:\\n\", x)\r\n",
        "print(\"y:\\n\", y)\r\n",
        "print(\"x*y:\\n\", np.multiply(x,y)) #array multiplication\r\n",
        "print(\"x.dot(y):\\n\", x.dot(y)) #matrix multiplication"
      ],
      "execution_count": 30,
      "outputs": [
        {
          "output_type": "stream",
          "text": [
            "x:\n",
            " [[1. 2.]\n",
            " [3. 4.]]\n",
            "y:\n",
            " [[1. 2.]\n",
            " [3. 4.]]\n",
            "x*y:\n",
            " [[ 1.  4.]\n",
            " [ 9. 16.]]\n",
            "x.dot(y):\n",
            " [[ 7. 10.]\n",
            " [15. 22.]]\n"
          ],
          "name": "stdout"
        }
      ]
    },
    {
      "cell_type": "code",
      "metadata": {
        "colab": {
          "base_uri": "https://localhost:8080/"
        },
        "id": "4iN3OfbO0KUO",
        "outputId": "73ed9f30-2625-4d51-e2ea-48e199a8238d"
      },
      "source": [
        "#dot production\r\n",
        "a = np.array([[1,2,3],[4,5,6]], dtype=np.float64)\r\n",
        "b = np.array([[7,8], [9,10], [11,12]], dtype=np.float64)\r\n",
        "print(\"a:\\n\", a)\r\n",
        "print(\"b:\\n\", b)\r\n",
        "print(a.dot(b))"
      ],
      "execution_count": 28,
      "outputs": [
        {
          "output_type": "stream",
          "text": [
            "a:\n",
            " [[1. 2. 3.]\n",
            " [4. 5. 6.]]\n",
            "b:\n",
            " [[ 7.  8.]\n",
            " [ 9. 10.]\n",
            " [11. 12.]]\n",
            "[[ 58.  64.]\n",
            " [139. 154.]]\n"
          ],
          "name": "stdout"
        }
      ]
    },
    {
      "cell_type": "code",
      "metadata": {
        "colab": {
          "base_uri": "https://localhost:8080/"
        },
        "id": "5Kt9s1v94OEu",
        "outputId": "2362875d-852e-4bc1-a305-8ea262b3abe6"
      },
      "source": [
        "# sum \r\n",
        "# From the most outside bracket, axis = 0, 1, 2.....\r\n",
        "x = np.array([[[1,2],[3,4],[5,6]], [[1,2],[3,4],[5,6]]])\r\n",
        "print (x)\r\n",
        "print (\"sum all: \", np.sum(x)) # sum of all elements\r\n",
        "print (\"sum by axis 0: \", np.sum(x, axis=0)) \r\n",
        "print (\"sum by axis 1: \", np.sum(x, axis=1)) \r\n",
        "print (\"sum by axis 2: \", np.sum(x, axis=2)) "
      ],
      "execution_count": 38,
      "outputs": [
        {
          "output_type": "stream",
          "text": [
            "[[[1 2]\n",
            "  [3 4]\n",
            "  [5 6]]\n",
            "\n",
            " [[1 2]\n",
            "  [3 4]\n",
            "  [5 6]]]\n",
            "sum all:  42\n",
            "sum by col:  [[ 2  4]\n",
            " [ 6  8]\n",
            " [10 12]]\n",
            "sum by row:  [[ 9 12]\n",
            " [ 9 12]]\n",
            "sum by ?:  [[ 3  7 11]\n",
            " [ 3  7 11]]\n"
          ],
          "name": "stdout"
        }
      ]
    },
    {
      "cell_type": "code",
      "metadata": {
        "colab": {
          "base_uri": "https://localhost:8080/"
        },
        "id": "WduR-nTA-qQA",
        "outputId": "58c6a868-8df5-46ae-c145-842e02499b8f"
      },
      "source": [
        "# Transposition\r\n",
        "x = np.array([[1,2],[3,4]])\r\n",
        "print(\"x:\\n\",x)\r\n",
        "print(\"x.T:\\n\", x.T)"
      ],
      "execution_count": 39,
      "outputs": [
        {
          "output_type": "stream",
          "text": [
            "x:\n",
            " [[1 2]\n",
            " [3 4]]\n",
            "x.T:\n",
            " [[1 3]\n",
            " [2 4]]\n"
          ],
          "name": "stdout"
        }
      ]
    },
    {
      "cell_type": "code",
      "metadata": {
        "colab": {
          "base_uri": "https://localhost:8080/"
        },
        "id": "T9RvQQQq_Jho",
        "outputId": "b450b29f-dca7-4793-9e30-0b12282f3c94"
      },
      "source": [
        "#np.tile\r\n",
        "x = np.array([[1,2],[3,4]])\r\n",
        "y = np.array([5,6])\r\n",
        "addent = np.tile(y,(len(x),1)) #tile(the smallest element value, shape()) \r\n",
        "print(\"addent:\\n\", addent)\r\n",
        "z = x + addent\r\n",
        "print(\"z:\\n\",z)"
      ],
      "execution_count": 52,
      "outputs": [
        {
          "output_type": "stream",
          "text": [
            "addent:\n",
            " [[5 6]\n",
            " [5 6]]\n"
          ],
          "name": "stdout"
        }
      ]
    },
    {
      "cell_type": "code",
      "metadata": {
        "colab": {
          "base_uri": "https://localhost:8080/"
        },
        "id": "6nA-mjlWCrxj",
        "outputId": "549f9702-f9b5-4930-e95d-dba8e2498c2f"
      },
      "source": [
        "#broadcasting\r\n",
        "#During operation, always broadcast the smallest size element in order to match the bigger size element\r\n",
        "x = np.array([[1,2],[3,4]])\r\n",
        "y = np.array([5,6])\r\n",
        "z = x + y\r\n",
        "print(\"x+y:\\n\",z)\r\n",
        "print(\"np.add(x,y):\\n\",np.add(x,y))"
      ],
      "execution_count": 66,
      "outputs": [
        {
          "output_type": "stream",
          "text": [
            "x+y:\n",
            " [[ 6  8]\n",
            " [ 8 10]]\n",
            "np.add(x,y):\n",
            " [[ 6  8]\n",
            " [ 8 10]]\n"
          ],
          "name": "stdout"
        }
      ]
    },
    {
      "cell_type": "code",
      "metadata": {
        "colab": {
          "base_uri": "https://localhost:8080/"
        },
        "id": "yLlpK08AEgF5",
        "outputId": "3a073f49-af82-4aac-ef6f-3e63857c8c46"
      },
      "source": [
        "#Change the dimension\r\n",
        "#As long as the size is the same\r\n",
        "x = np.array([[1,2],[3,4],[5,6]])\r\n",
        "print(x)\r\n",
        "print(\"x.shape: \", x.shape)\r\n",
        "y = np.reshape(x,(2,3))\r\n",
        "print(\"y.shape: \", y.shape)\r\n",
        "print(\"y:\\n\", y)"
      ],
      "execution_count": 75,
      "outputs": [
        {
          "output_type": "stream",
          "text": [
            "[[1 2]\n",
            " [3 4]\n",
            " [5 6]]\n",
            "x.shape:  (3, 2)\n",
            "y.shape:  (2, 3)\n",
            "y:\n",
            " [[1 2 3]\n",
            " [4 5 6]]\n"
          ],
          "name": "stdout"
        }
      ]
    },
    {
      "cell_type": "code",
      "metadata": {
        "colab": {
          "base_uri": "https://localhost:8080/"
        },
        "id": "4qWf7Iz8GO54",
        "outputId": "0ab28494-d440-4f4a-84c2-db548d24cadc"
      },
      "source": [
        "#Delete dimension\r\n",
        "#The size of deleted dimension must be 1\r\n",
        "x = np.array([[[1,2,1]],[[2,2,3]]])\r\n",
        "print(\"x.shape: \", x.shape)\r\n",
        "y = np.squeeze(x,1) #delete dimension 1\r\n",
        "print(\"y.shape: \", y.shape)\r\n",
        "print(\"y:\\n\", y)"
      ],
      "execution_count": 82,
      "outputs": [
        {
          "output_type": "stream",
          "text": [
            "x.shape:  (2, 1, 3)\n",
            "y.shape:  (2, 3)\n",
            "y:\n",
            " [[1 2 1]\n",
            " [2 2 3]]\n"
          ],
          "name": "stdout"
        }
      ]
    },
    {
      "cell_type": "code",
      "metadata": {
        "colab": {
          "base_uri": "https://localhost:8080/"
        },
        "id": "A5GtLg4EH1vk",
        "outputId": "e9e2ca90-8ffa-4c90-b9fc-2a07216c76c6"
      },
      "source": [
        "# Add dimension\r\n",
        "x = np.array([[1,2,1],[2,2,3]])\r\n",
        "print(\"x.shape: \", x.shape)\r\n",
        "y = np.expand_dims(x,1) #insert dimension 1\r\n",
        "print(\"y.shape: \", y.shape)\r\n",
        "print(\"y:\\n\", y)"
      ],
      "execution_count": 88,
      "outputs": [
        {
          "output_type": "stream",
          "text": [
            "x.shape:  (2, 3)\n",
            "y.shape:  (2, 1, 3)\n",
            "y:\n",
            " [[[1 2 1]]\n",
            "\n",
            " [[2 2 3]]]\n"
          ],
          "name": "stdout"
        }
      ]
    },
    {
      "cell_type": "markdown",
      "metadata": {
        "id": "DccjXzmi21Sz"
      },
      "source": [
        "# 新段落"
      ]
    },
    {
      "cell_type": "markdown",
      "metadata": {
        "id": "wf9jtPD021xU"
      },
      "source": [
        "# 新段落"
      ]
    }
  ]
}