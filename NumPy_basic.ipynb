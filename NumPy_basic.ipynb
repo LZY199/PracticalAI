{
  "nbformat": 4,
  "nbformat_minor": 0,
  "metadata": {
    "colab": {
      "name": "NumPy_basic.ipynb",
      "provenance": [],
      "collapsed_sections": [],
      "authorship_tag": "ABX9TyOZrHB0SOrVakd9DQztkJCM",
      "include_colab_link": true
    },
    "kernelspec": {
      "name": "python3",
      "display_name": "Python 3"
    }
  },
  "cells": [
    {
      "cell_type": "markdown",
      "metadata": {
        "id": "view-in-github",
        "colab_type": "text"
      },
      "source": [
        "<a href=\"https://colab.research.google.com/github/LZY199/PracticalAI/blob/main/NumPy_basic.ipynb\" target=\"_parent\"><img src=\"https://colab.research.google.com/assets/colab-badge.svg\" alt=\"Open In Colab\"/></a>"
      ]
    },
    {
      "cell_type": "code",
      "metadata": {
        "id": "8vxu2Yy6t6CJ"
      },
      "source": [
        "import numpy as np\r\n",
        "# By setting seed(can be any value), to ensure always get the same random number(as long as the seed value is the same)\r\n",
        "np.random.seed(1234)"
      ],
      "execution_count": 2,
      "outputs": []
    },
    {
      "cell_type": "code",
      "metadata": {
        "colab": {
          "base_uri": "https://localhost:8080/"
        },
        "id": "U62Evd2xxPvu",
        "outputId": "363cd157-a8d2-4083-8c71-c70a0d1f2ea9"
      },
      "source": [
        "# Scalar\r\n",
        "x = np.array(6)\r\n",
        "print(\"x: \", x)\r\n",
        "print(\"x ndim: \", x.ndim)\r\n",
        "print(\"x shape: \", x.shape)\r\n",
        "print(\"x size: \", x.size)\r\n",
        "print(\"x dtype: \", x.dtype)"
      ],
      "execution_count": 3,
      "outputs": [
        {
          "output_type": "stream",
          "text": [
            "x:  6\n",
            "x ndim:  0\n",
            "x shape:  ()\n",
            "x size:  1\n",
            "x dtype:  int64\n"
          ],
          "name": "stdout"
        }
      ]
    },
    {
      "cell_type": "code",
      "metadata": {
        "colab": {
          "base_uri": "https://localhost:8080/"
        },
        "id": "9lLV3blAxt08",
        "outputId": "eb4af803-4365-422c-9fd8-9a3dbf8bfa46"
      },
      "source": [
        "# Vector\r\n",
        "x = np.array([1.3, 2.2, 1.7])\r\n",
        "print(\"x: \", x)\r\n",
        "print(\"x ndim: \", x.ndim)\r\n",
        "print(\"x shape: \", x.shape)\r\n",
        "print(\"x size: \", x.size)\r\n",
        "print(\"x dtype: \", x.dtype)"
      ],
      "execution_count": 4,
      "outputs": [
        {
          "output_type": "stream",
          "text": [
            "x:  [1.3 2.2 1.7]\n",
            "x ndim:  1\n",
            "x shape:  (3,)\n",
            "x size:  3\n",
            "x dtype:  float64\n"
          ],
          "name": "stdout"
        }
      ]
    },
    {
      "cell_type": "code",
      "metadata": {
        "colab": {
          "base_uri": "https://localhost:8080/"
        },
        "id": "wOXtuQgezZSk",
        "outputId": "57fa2c61-a728-4c22-f057-3455b71a6b11"
      },
      "source": [
        "# Matrix\r\n",
        "x = np.array([[1,2,3], [4,5,6]])\r\n",
        "print(\"x: \", x)\r\n",
        "print(\"x ndim: \", x.ndim)\r\n",
        "print(\"x shape: \", x.shape)\r\n",
        "print(\"x size: \", x.size)\r\n",
        "print(\"x dtype: \", x.dtype)"
      ],
      "execution_count": 5,
      "outputs": [
        {
          "output_type": "stream",
          "text": [
            "x:  [[1 2 3]\n",
            " [4 5 6]]\n",
            "x ndim:  2\n",
            "x shape:  (2, 3)\n",
            "x size:  6\n",
            "x dtype:  int64\n"
          ],
          "name": "stdout"
        }
      ]
    },
    {
      "cell_type": "code",
      "metadata": {
        "colab": {
          "base_uri": "https://localhost:8080/"
        },
        "id": "p56JdZe3mhhs",
        "outputId": "f4225b26-65c1-4929-ca4e-b15cf2b8b0f6"
      },
      "source": [
        "# 3-D Tenson\r\n",
        "#Notes:\r\n",
        "#shape(m,n,k...) means:\r\n",
        "# In the array, from the most outsdie bracket, there are \"m\" elements who has \"n\" elements who has \"k\" elements......\r\n",
        "x = np.array([[[1,2,3], [4,5,6]],[[7,8,9], [10,11,12]]])\r\n",
        "print(\"x: \", x)\r\n",
        "print(\"x ndim: \", x.ndim)\r\n",
        "print(\"x shape: \", x.shape) \r\n",
        "print(\"x size: \", x.size)\r\n",
        "print(\"x dtype: \", x.dtype)"
      ],
      "execution_count": 6,
      "outputs": [
        {
          "output_type": "stream",
          "text": [
            "x:  [[[ 1  2  3]\n",
            "  [ 4  5  6]]\n",
            "\n",
            " [[ 7  8  9]\n",
            "  [10 11 12]]]\n",
            "x ndim:  3\n",
            "x shape:  (2, 2, 3)\n",
            "x size:  12\n",
            "x dtype:  int64\n"
          ],
          "name": "stdout"
        }
      ]
    },
    {
      "cell_type": "code",
      "metadata": {
        "colab": {
          "base_uri": "https://localhost:8080/"
        },
        "id": "qMAwHGdKzj48",
        "outputId": "514cdc6a-b1d9-4c63-942c-e3450c8ed4de"
      },
      "source": [
        "#functions\r\n",
        "print(\"np.zeros((2,2)):\\n\", np.zeros((2,2)))\r\n",
        "print(\"np.ones((2,2)):\\n\", np.ones((2,2)))\r\n",
        "print(\"np.eye((2)):\\n\", np.eye((2)))\r\n",
        "print(\"np.random.random((2,2)):\\n\", np.random.random((2,2)))"
      ],
      "execution_count": 7,
      "outputs": [
        {
          "output_type": "stream",
          "text": [
            "np.zeros((2,2)):\n",
            " [[0. 0.]\n",
            " [0. 0.]]\n",
            "np.ones((2,2)):\n",
            " [[1. 1.]\n",
            " [1. 1.]]\n",
            "np.eye((2)):\n",
            " [[1. 0.]\n",
            " [0. 1.]]\n",
            "np.random.random((2,2)):\n",
            " [[0.19151945 0.62210877]\n",
            " [0.43772774 0.78535858]]\n"
          ],
          "name": "stdout"
        }
      ]
    },
    {
      "cell_type": "code",
      "metadata": {
        "id": "i3zgxEgq1OIN",
        "colab": {
          "base_uri": "https://localhost:8080/"
        },
        "outputId": "32d7bc7f-078e-4469-db64-a13d78f672a6"
      },
      "source": [
        "#indexing\r\n",
        "#slicing\r\n",
        "x = np.array([[1,2,3,4], [5,6,7,8], [9,10,11,12]])\r\n",
        "print (x)\r\n",
        "print (\"x column 1: \", x[:, 1]) \r\n",
        "print (\"x row 0: \", x[0, :]) \r\n",
        "print (\"x rows 0,1,2 & cols 1,2: \\n\", x[0:3, 1:3]) "
      ],
      "execution_count": 8,
      "outputs": [
        {
          "output_type": "stream",
          "text": [
            "[[ 1  2  3  4]\n",
            " [ 5  6  7  8]\n",
            " [ 9 10 11 12]]\n",
            "x column 1:  [ 2  6 10]\n",
            "x row 0:  [1 2 3 4]\n",
            "x rows 0,1,2 & cols 1,2: \n",
            " [[ 2  3]\n",
            " [ 6  7]\n",
            " [10 11]]\n"
          ],
          "name": "stdout"
        }
      ]
    },
    {
      "cell_type": "code",
      "metadata": {
        "colab": {
          "base_uri": "https://localhost:8080/"
        },
        "id": "tJQJXf-8rmW-",
        "outputId": "aa60f6dc-c27b-4812-c21f-2c41f0167a97"
      },
      "source": [
        "#Int array indexing\r\n",
        "x = np.array([[1,2,3,4], [5,6,7,8], [9,10,11,12]])\r\n",
        "print(x)\r\n",
        "print(\"len(x): \", len(x))\r\n",
        "rows_to_get = np.arange(len(x))\r\n",
        "print(\"rows_to_get:\", rows_to_get)\r\n",
        "cols_to_get = np.array([0, 2, 1])\r\n",
        "print(\"clos_to_get:\", cols_to_get)\r\n",
        "print(\"indexed elements in x:\", x[rows_to_get, cols_to_get]) "
      ],
      "execution_count": 9,
      "outputs": [
        {
          "output_type": "stream",
          "text": [
            "[[ 1  2  3  4]\n",
            " [ 5  6  7  8]\n",
            " [ 9 10 11 12]]\n",
            "len(x):  3\n",
            "rows_to_get: [0 1 2]\n",
            "clos_to_get: [0 2 1]\n",
            "indexed elements in x: [ 1  7 10]\n"
          ],
          "name": "stdout"
        }
      ]
    },
    {
      "cell_type": "code",
      "metadata": {
        "colab": {
          "base_uri": "https://localhost:8080/"
        },
        "id": "r7Qu_qhHu9NF",
        "outputId": "c25f95e2-beaa-431a-9ddc-82691487887a"
      },
      "source": [
        "#boolean array indexing\r\n",
        "x = np.array([[1,2],[3,4],[5,6]])\r\n",
        "print(\"x:\\n\", x)\r\n",
        "print(\"x>2:\\n\", x>2)\r\n",
        "print(\"x[x>2]:\\n\", x[(x>2) & (x<6)])"
      ],
      "execution_count": 10,
      "outputs": [
        {
          "output_type": "stream",
          "text": [
            "x:\n",
            " [[1 2]\n",
            " [3 4]\n",
            " [5 6]]\n",
            "x>2:\n",
            " [[False False]\n",
            " [ True  True]\n",
            " [ True  True]]\n",
            "x[x>2]:\n",
            " [3 4 5]\n"
          ],
          "name": "stdout"
        }
      ]
    },
    {
      "cell_type": "code",
      "metadata": {
        "colab": {
          "base_uri": "https://localhost:8080/"
        },
        "id": "3xRSb3xBw53c",
        "outputId": "3a44a884-b1f6-409c-9892-de5ec08596a2"
      },
      "source": [
        "# numpy math\r\n",
        "x = np.array([[1,2],[3,4]], dtype=np.float64)\r\n",
        "y = np.array([[1,2],[3,4]], dtype=np.float64)\r\n",
        "print(\"x:\\n\", x)\r\n",
        "print(\"y:\\n\", y)\r\n",
        "print(\"x*y:\\n\", np.multiply(x,y)) #array multiplication\r\n",
        "print(\"x.dot(y):\\n\", x.dot(y)) #matrix multiplication"
      ],
      "execution_count": 11,
      "outputs": [
        {
          "output_type": "stream",
          "text": [
            "x:\n",
            " [[1. 2.]\n",
            " [3. 4.]]\n",
            "y:\n",
            " [[1. 2.]\n",
            " [3. 4.]]\n",
            "x*y:\n",
            " [[ 1.  4.]\n",
            " [ 9. 16.]]\n",
            "x.dot(y):\n",
            " [[ 7. 10.]\n",
            " [15. 22.]]\n"
          ],
          "name": "stdout"
        }
      ]
    },
    {
      "cell_type": "code",
      "metadata": {
        "colab": {
          "base_uri": "https://localhost:8080/"
        },
        "id": "4iN3OfbO0KUO",
        "outputId": "e846a5d2-5761-470c-8b95-bb3ee1826db5"
      },
      "source": [
        "#dot production\r\n",
        "a = np.array([[1,2,3],[4,5,6]], dtype=np.float64)\r\n",
        "b = np.array([[7,8], [9,10], [11,12]], dtype=np.float64)\r\n",
        "print(\"a:\\n\", a)\r\n",
        "print(\"b:\\n\", b)\r\n",
        "print(a.dot(b))"
      ],
      "execution_count": 12,
      "outputs": [
        {
          "output_type": "stream",
          "text": [
            "a:\n",
            " [[1. 2. 3.]\n",
            " [4. 5. 6.]]\n",
            "b:\n",
            " [[ 7.  8.]\n",
            " [ 9. 10.]\n",
            " [11. 12.]]\n",
            "[[ 58.  64.]\n",
            " [139. 154.]]\n"
          ],
          "name": "stdout"
        }
      ]
    },
    {
      "cell_type": "code",
      "metadata": {
        "colab": {
          "base_uri": "https://localhost:8080/"
        },
        "id": "5Kt9s1v94OEu",
        "outputId": "99f610eb-b2a9-42ef-8730-a261c63380d5"
      },
      "source": [
        "# sum \r\n",
        "# From the most outside bracket, axis = 0, 1, 2.....\r\n",
        "x = np.array([[[1,2],[3,4],[5,6]], [[1,2],[3,4],[5,6]]])\r\n",
        "print (x)\r\n",
        "print (\"sum all: \", np.sum(x)) # sum of all elements\r\n",
        "print (\"sum by axis 0: \", np.sum(x, axis=0)) \r\n",
        "print (\"sum by axis 1: \", np.sum(x, axis=1)) \r\n",
        "print (\"sum by axis 2: \", np.sum(x, axis=2)) "
      ],
      "execution_count": 13,
      "outputs": [
        {
          "output_type": "stream",
          "text": [
            "[[[1 2]\n",
            "  [3 4]\n",
            "  [5 6]]\n",
            "\n",
            " [[1 2]\n",
            "  [3 4]\n",
            "  [5 6]]]\n",
            "sum all:  42\n",
            "sum by axis 0:  [[ 2  4]\n",
            " [ 6  8]\n",
            " [10 12]]\n",
            "sum by axis 1:  [[ 9 12]\n",
            " [ 9 12]]\n",
            "sum by axis 2:  [[ 3  7 11]\n",
            " [ 3  7 11]]\n"
          ],
          "name": "stdout"
        }
      ]
    },
    {
      "cell_type": "code",
      "metadata": {
        "colab": {
          "base_uri": "https://localhost:8080/"
        },
        "id": "WduR-nTA-qQA",
        "outputId": "6a06790a-61e6-4640-8ed0-9f3a6ec59731"
      },
      "source": [
        "# Transposition\r\n",
        "x = np.array([[1,2],[3,4]])\r\n",
        "print(\"x:\\n\",x)\r\n",
        "print(\"x.T:\\n\", x.T)"
      ],
      "execution_count": 14,
      "outputs": [
        {
          "output_type": "stream",
          "text": [
            "x:\n",
            " [[1 2]\n",
            " [3 4]]\n",
            "x.T:\n",
            " [[1 3]\n",
            " [2 4]]\n"
          ],
          "name": "stdout"
        }
      ]
    },
    {
      "cell_type": "code",
      "metadata": {
        "colab": {
          "base_uri": "https://localhost:8080/"
        },
        "id": "0n435qrB_mSj",
        "outputId": "96248128-129b-4fce-9528-455e71118bf7"
      },
      "source": [
        "# Transpose\r\n",
        "x = np.array([[1,2,3],[4,5,6]])\r\n",
        "print(\"x:\\n\", x)\r\n",
        "print(\"x.shape: \", x.shape)\r\n",
        "y = np.transpose(x, (1,0))\r\n",
        "print(\"y:\\n\", y)\r\n",
        "print(\"y.shape: \", y.shape)"
      ],
      "execution_count": 21,
      "outputs": [
        {
          "output_type": "stream",
          "text": [
            "x:\n",
            " [[1 2 3]\n",
            " [4 5 6]]\n",
            "x.shape:  (2, 3)\n",
            "y:\n",
            " [[1 4]\n",
            " [2 5]\n",
            " [3 6]]\n",
            "y.shape:  (3, 2)\n"
          ],
          "name": "stdout"
        }
      ]
    },
    {
      "cell_type": "code",
      "metadata": {
        "colab": {
          "base_uri": "https://localhost:8080/"
        },
        "id": "T9RvQQQq_Jho",
        "outputId": "7f40a9d4-a1dc-4304-880b-fec3387276a2"
      },
      "source": [
        "#np.tile\r\n",
        "x = np.array([[1,2],[3,4]])\r\n",
        "y = np.array([5,6])\r\n",
        "addent = np.tile(y,(len(x),1)) #tile(the smallest element value, shape()) \r\n",
        "print(\"addent:\\n\", addent)\r\n",
        "z = x + addent\r\n",
        "print(\"z:\\n\",z)"
      ],
      "execution_count": 15,
      "outputs": [
        {
          "output_type": "stream",
          "text": [
            "addent:\n",
            " [[5 6]\n",
            " [5 6]]\n",
            "z:\n",
            " [[ 6  8]\n",
            " [ 8 10]]\n"
          ],
          "name": "stdout"
        }
      ]
    },
    {
      "cell_type": "code",
      "metadata": {
        "colab": {
          "base_uri": "https://localhost:8080/"
        },
        "id": "6nA-mjlWCrxj",
        "outputId": "87c13379-eb20-41fe-c741-077164f9a475"
      },
      "source": [
        "#broadcasting\r\n",
        "#During operation, always broadcast the smallest size element in order to match the bigger size element\r\n",
        "x = np.array([[1,2],[3,4]])\r\n",
        "y = np.array([5,6])\r\n",
        "z = x + y\r\n",
        "print(\"x+y:\\n\",z)\r\n",
        "print(\"np.add(x,y):\\n\",np.add(x,y))"
      ],
      "execution_count": 16,
      "outputs": [
        {
          "output_type": "stream",
          "text": [
            "x+y:\n",
            " [[ 6  8]\n",
            " [ 8 10]]\n",
            "np.add(x,y):\n",
            " [[ 6  8]\n",
            " [ 8 10]]\n"
          ],
          "name": "stdout"
        }
      ]
    },
    {
      "cell_type": "code",
      "metadata": {
        "colab": {
          "base_uri": "https://localhost:8080/"
        },
        "id": "yLlpK08AEgF5",
        "outputId": "48ed1187-88a7-40a2-c03b-750a41d322df"
      },
      "source": [
        "#Change the dimension\r\n",
        "#As long as the size is the same\r\n",
        "x = np.array([[1,2],[3,4],[5,6]])\r\n",
        "print(x)\r\n",
        "print(\"x.shape: \", x.shape)\r\n",
        "y = np.reshape(x,(2,3))\r\n",
        "print(\"y.shape: \", y.shape)\r\n",
        "print(\"y:\\n\", y)\r\n",
        "z = np.reshape(x,(2,-1)) # use -1 on a dimension and NumPy will infer the dimension based on our input tensor.\r\n",
        "print(\"z.shape: \", z.shape)\r\n",
        "print(\"z:\\n\", z)"
      ],
      "execution_count": 17,
      "outputs": [
        {
          "output_type": "stream",
          "text": [
            "[[1 2]\n",
            " [3 4]\n",
            " [5 6]]\n",
            "x.shape:  (3, 2)\n",
            "y.shape:  (2, 3)\n",
            "y:\n",
            " [[1 2 3]\n",
            " [4 5 6]]\n",
            "z.shape:  (2, 3)\n",
            "z:\n",
            " [[1 2 3]\n",
            " [4 5 6]]\n"
          ],
          "name": "stdout"
        }
      ]
    },
    {
      "cell_type": "code",
      "metadata": {
        "colab": {
          "base_uri": "https://localhost:8080/"
        },
        "id": "-OLZHLoAD_s3",
        "outputId": "c98cd733-7d51-442c-caf6-496d9d6dd1be"
      },
      "source": [
        "#Unintended reshaping\r\n",
        "x = np.array([[[1,1,1,1],[2,2,2,2],[3,3,3,3]],[[10,10,10,10],[20,20,20,20],[30,30,30,30]]])\r\n",
        "print(\"x:\\n\", x)\r\n",
        "print(\"x.shape: \", x.shape)\r\n",
        "y = np.transpose(x, (2,1,0))\r\n",
        "print(\"y:\\n\", y)\r\n",
        "print(\"y.shape: \",y.shape)"
      ],
      "execution_count": 25,
      "outputs": [
        {
          "output_type": "stream",
          "text": [
            "x:\n",
            " [[[ 1  1  1  1]\n",
            "  [ 2  2  2  2]\n",
            "  [ 3  3  3  3]]\n",
            "\n",
            " [[10 10 10 10]\n",
            "  [20 20 20 20]\n",
            "  [30 30 30 30]]]\n",
            "x.shape:  (2, 3, 4)\n",
            "y:\n",
            " [[[ 1 10]\n",
            "  [ 2 20]\n",
            "  [ 3 30]]\n",
            "\n",
            " [[ 1 10]\n",
            "  [ 2 20]\n",
            "  [ 3 30]]\n",
            "\n",
            " [[ 1 10]\n",
            "  [ 2 20]\n",
            "  [ 3 30]]\n",
            "\n",
            " [[ 1 10]\n",
            "  [ 2 20]\n",
            "  [ 3 30]]]\n",
            "y.shape:  (4, 3, 2)\n"
          ],
          "name": "stdout"
        }
      ]
    },
    {
      "cell_type": "code",
      "metadata": {
        "colab": {
          "base_uri": "https://localhost:8080/"
        },
        "id": "4qWf7Iz8GO54",
        "outputId": "719fe94e-9299-4964-dd7f-6a2c5d881bd4"
      },
      "source": [
        "#Delete dimension\r\n",
        "#The size of deleted dimension must be 1\r\n",
        "x = np.array([[[1,2,1]],[[2,2,3]]])\r\n",
        "print(\"x.shape: \", x.shape)\r\n",
        "y = np.squeeze(x,1) #delete dimension 1\r\n",
        "print(\"y.shape: \", y.shape)\r\n",
        "print(\"y:\\n\", y)"
      ],
      "execution_count": 18,
      "outputs": [
        {
          "output_type": "stream",
          "text": [
            "x.shape:  (2, 1, 3)\n",
            "y.shape:  (2, 3)\n",
            "y:\n",
            " [[1 2 1]\n",
            " [2 2 3]]\n"
          ],
          "name": "stdout"
        }
      ]
    },
    {
      "cell_type": "code",
      "metadata": {
        "colab": {
          "base_uri": "https://localhost:8080/"
        },
        "id": "A5GtLg4EH1vk",
        "outputId": "86e8aca1-f051-44c1-bc36-081c38506177"
      },
      "source": [
        "# Add dimension\r\n",
        "x = np.array([[1,2,1],[2,2,3]])\r\n",
        "print(\"x.shape: \", x.shape)\r\n",
        "y = np.expand_dims(x,1) #insert dimension 1\r\n",
        "print(\"y.shape: \", y.shape)\r\n",
        "print(\"y:\\n\", y)"
      ],
      "execution_count": 19,
      "outputs": [
        {
          "output_type": "stream",
          "text": [
            "x.shape:  (2, 3)\n",
            "y.shape:  (2, 1, 3)\n",
            "y:\n",
            " [[[1 2 1]]\n",
            "\n",
            " [[2 2 3]]]\n"
          ],
          "name": "stdout"
        }
      ]
    },
    {
      "cell_type": "markdown",
      "metadata": {
        "id": "DccjXzmi21Sz"
      },
      "source": [
        "# 新段落"
      ]
    },
    {
      "cell_type": "markdown",
      "metadata": {
        "id": "wf9jtPD021xU"
      },
      "source": [
        "# 新段落"
      ]
    }
  ]
}