{
  "nbformat": 4,
  "nbformat_minor": 0,
  "metadata": {
    "colab": {
      "name": "NumPy_basic.ipynb",
      "provenance": [],
      "authorship_tag": "ABX9TyMA5FPFw8J7BhiiNVZDMSW/",
      "include_colab_link": true
    },
    "kernelspec": {
      "name": "python3",
      "display_name": "Python 3"
    }
  },
  "cells": [
    {
      "cell_type": "markdown",
      "metadata": {
        "id": "view-in-github",
        "colab_type": "text"
      },
      "source": [
        "<a href=\"https://colab.research.google.com/github/LZY199/PracticalAI/blob/main/NumPy_basic.ipynb\" target=\"_parent\"><img src=\"https://colab.research.google.com/assets/colab-badge.svg\" alt=\"Open In Colab\"/></a>"
      ]
    },
    {
      "cell_type": "code",
      "metadata": {
        "id": "8vxu2Yy6t6CJ"
      },
      "source": [
        "import numpy as np\r\n",
        "# By setting seed(can be any value), to ensure always get the same random number(as long as the seed value is the same)\r\n",
        "np.random.seed(1234)"
      ],
      "execution_count": 1,
      "outputs": []
    },
    {
      "cell_type": "code",
      "metadata": {
        "colab": {
          "base_uri": "https://localhost:8080/"
        },
        "id": "U62Evd2xxPvu",
        "outputId": "07f1fb5d-11d0-4fd2-fdc8-2f57a66cd533"
      },
      "source": [
        "#scalars\r\n",
        "x = np.array(6)\r\n",
        "print(\"x: \", x)\r\n",
        "print(\"x ndim: \", x.ndim)\r\n",
        "print(\"x shape: \", x.shape)\r\n",
        "print(\"x size: \", x.size)\r\n",
        "print(\"x dtype: \", x.dtype)"
      ],
      "execution_count": 4,
      "outputs": [
        {
          "output_type": "stream",
          "text": [
            "x:  6\n",
            "x ndim:  0\n",
            "x shape:  ()\n",
            "x size:  1\n",
            "x dtype:  int64\n"
          ],
          "name": "stdout"
        }
      ]
    },
    {
      "cell_type": "code",
      "metadata": {
        "colab": {
          "base_uri": "https://localhost:8080/"
        },
        "id": "9lLV3blAxt08",
        "outputId": "e0985aad-3d4f-4413-8196-9abf7a8df107"
      },
      "source": [
        "#array\r\n",
        "x = np.array([1.3, 2.2, 1.7])\r\n",
        "print(\"x: \", x)\r\n",
        "print(\"x ndim: \", x.ndim)\r\n",
        "print(\"x shape: \", x.shape)\r\n",
        "print(\"x size: \", x.size)\r\n",
        "print(\"x dtype: \", x.dtype)"
      ],
      "execution_count": 5,
      "outputs": [
        {
          "output_type": "stream",
          "text": [
            "x:  [1.3 2.2 1.7]\n",
            "x ndim:  1\n",
            "x shape:  (3,)\n",
            "x size:  3\n",
            "x dtype:  float64\n"
          ],
          "name": "stdout"
        }
      ]
    },
    {
      "cell_type": "code",
      "metadata": {
        "colab": {
          "base_uri": "https://localhost:8080/"
        },
        "id": "wOXtuQgezZSk",
        "outputId": "abd7d995-557c-43db-822c-9768824a5910"
      },
      "source": [
        "#array\r\n",
        "x = np.array([[1,2,3], [4,5,6], [7,8,9]])\r\n",
        "print(\"x: \", x)\r\n",
        "print(\"x ndim: \", x.ndim)\r\n",
        "print(\"x shape: \", x.shape)\r\n",
        "print(\"x size: \", x.size)\r\n",
        "print(\"x dtype: \", x.dtype)"
      ],
      "execution_count": 7,
      "outputs": [
        {
          "output_type": "stream",
          "text": [
            "x:  [[1 2 3]\n",
            " [4 5 6]\n",
            " [7 8 9]]\n",
            "x ndim:  2\n",
            "x shape:  (3, 3)\n",
            "x size:  9\n",
            "x dtype:  int64\n"
          ],
          "name": "stdout"
        }
      ]
    },
    {
      "cell_type": "code",
      "metadata": {
        "colab": {
          "base_uri": "https://localhost:8080/"
        },
        "id": "qMAwHGdKzj48",
        "outputId": "73625306-bbe0-48ed-d916-cf5fbf39feab"
      },
      "source": [
        "#functions\r\n",
        "print(\"np.zeros((2,2)):\\n\", np.zeros((2,2)))\r\n",
        "print(\"np.ones((2,2)):\\n\", np.ones((2,2)))\r\n",
        "print(\"np.eye((2)):\\n\", np.eye((2)))\r\n",
        "print(\"np.random.random((2,2)):\\n\", np.random.random((2,2)))"
      ],
      "execution_count": 9,
      "outputs": [
        {
          "output_type": "stream",
          "text": [
            "np.zeros((2,2)):\n",
            " [[0. 0.]\n",
            " [0. 0.]]\n",
            "np.ones((2,2)):\n",
            " [[1. 1.]\n",
            " [1. 1.]]\n",
            "np.eye((2)):\n",
            " [[1. 0.]\n",
            " [0. 1.]]\n",
            "np.random.random((2,2)):\n",
            " [[0.19151945 0.62210877]\n",
            " [0.43772774 0.78535858]]\n"
          ],
          "name": "stdout"
        }
      ]
    },
    {
      "cell_type": "code",
      "metadata": {
        "id": "i3zgxEgq1OIN"
      },
      "source": [
        ""
      ],
      "execution_count": null,
      "outputs": []
    }
  ]
}