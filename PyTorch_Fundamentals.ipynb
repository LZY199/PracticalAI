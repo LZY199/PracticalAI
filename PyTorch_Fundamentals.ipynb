{
  "nbformat": 4,
  "nbformat_minor": 0,
  "metadata": {
    "colab": {
      "name": "PyTorch Fundamentals.ipynb",
      "provenance": [],
      "collapsed_sections": [],
      "authorship_tag": "ABX9TyMCKmlBRFbpJCDjVzLhi/Hl",
      "include_colab_link": true
    },
    "kernelspec": {
      "name": "python3",
      "display_name": "Python 3"
    },
    "language_info": {
      "name": "python"
    },
    "accelerator": "GPU"
  },
  "cells": [
    {
      "cell_type": "markdown",
      "metadata": {
        "id": "view-in-github",
        "colab_type": "text"
      },
      "source": [
        "<a href=\"https://colab.research.google.com/github/LZY199/PracticalAI/blob/main/PyTorch_Fundamentals.ipynb\" target=\"_parent\"><img src=\"https://colab.research.google.com/assets/colab-badge.svg\" alt=\"Open In Colab\"/></a>"
      ]
    },
    {
      "cell_type": "code",
      "metadata": {
        "colab": {
          "base_uri": "https://localhost:8080/"
        },
        "id": "gNeXi_CYSOyk",
        "outputId": "122dd3c0-3549-47de-bef8-567b0021060c"
      },
      "source": [
        "import numpy as np\n",
        "import torch\n",
        "SEED = 1234\n",
        "\n",
        "# Set seed for reproducibility\n",
        "np.random.seed(seed=SEED)\n",
        "torch.manual_seed(SEED)"
      ],
      "execution_count": 2,
      "outputs": [
        {
          "output_type": "execute_result",
          "data": {
            "text/plain": [
              "<torch._C.Generator at 0x7fa0f46dca30>"
            ]
          },
          "metadata": {
            "tags": []
          },
          "execution_count": 2
        }
      ]
    },
    {
      "cell_type": "markdown",
      "metadata": {
        "id": "ToQX2UL2VKtw"
      },
      "source": [
        "## **Basics**"
      ]
    },
    {
      "cell_type": "code",
      "metadata": {
        "colab": {
          "base_uri": "https://localhost:8080/"
        },
        "id": "KVYiTODDVORR",
        "outputId": "3888cf22-9080-4311-b4b0-b53284b9089e"
      },
      "source": [
        "# Creating a random tensor\n",
        "x = torch.randn(2,3)\n",
        "print(\"Type:\", x.type())\n",
        "print(\"Size:\", x.shape)\n",
        "print(f\"Values:\\n{x}\")"
      ],
      "execution_count": 3,
      "outputs": [
        {
          "output_type": "stream",
          "text": [
            "Type: torch.FloatTensor\n",
            "Size: torch.Size([2, 3])\n",
            "Values:\n",
            "tensor([[ 0.0461,  0.4024, -1.0115],\n",
            "        [ 0.2167, -0.6123,  0.5036]])\n"
          ],
          "name": "stdout"
        }
      ]
    },
    {
      "cell_type": "code",
      "metadata": {
        "colab": {
          "base_uri": "https://localhost:8080/"
        },
        "id": "GWlX8pqnZM5N",
        "outputId": "4336a4be-9f54-4d5c-b92e-b50cc7212053"
      },
      "source": [
        "# Zero and Ones tensor\n",
        "x = torch.zeros(2,3)\n",
        "print(x)\n",
        "x = torch.ones(2,3)\n",
        "print(x)"
      ],
      "execution_count": 4,
      "outputs": [
        {
          "output_type": "stream",
          "text": [
            "tensor([[0., 0., 0.],\n",
            "        [0., 0., 0.]])\n",
            "tensor([[1., 1., 1.],\n",
            "        [1., 1., 1.]])\n"
          ],
          "name": "stdout"
        }
      ]
    },
    {
      "cell_type": "code",
      "metadata": {
        "colab": {
          "base_uri": "https://localhost:8080/"
        },
        "id": "fsi3o4LNbMQR",
        "outputId": "4bafd230-018a-4d93-a5ec-390b6a72f2b5"
      },
      "source": [
        "# List -> Tensor\n",
        "x = torch.Tensor([[1,2,3],[4,5,6]])\n",
        "print(f\"Size:{x.shape}\")\n",
        "print(f\"Values:\\n{x}\")"
      ],
      "execution_count": 5,
      "outputs": [
        {
          "output_type": "stream",
          "text": [
            "Size:torch.Size([2, 3])\n",
            "Values:\n",
            "tensor([[1., 2., 3.],\n",
            "        [4., 5., 6.]])\n"
          ],
          "name": "stdout"
        }
      ]
    },
    {
      "cell_type": "code",
      "metadata": {
        "colab": {
          "base_uri": "https://localhost:8080/"
        },
        "id": "9qYzNYGYcari",
        "outputId": "dde51566-83d6-4bb6-ec31-71d70daa5ba0"
      },
      "source": [
        "# NumPy array -> Tensor\n",
        "x = torch.Tensor(np.random.rand(2,3))\n",
        "print(f\"Size:{x.shape}\")\n",
        "print(f\"Value:\\n{x}\")"
      ],
      "execution_count": 6,
      "outputs": [
        {
          "output_type": "stream",
          "text": [
            "Size:torch.Size([2, 3])\n",
            "Value:\n",
            "tensor([[0.1915, 0.6221, 0.4377],\n",
            "        [0.7854, 0.7800, 0.2726]])\n"
          ],
          "name": "stdout"
        }
      ]
    },
    {
      "cell_type": "code",
      "metadata": {
        "colab": {
          "base_uri": "https://localhost:8080/"
        },
        "id": "K1h_y-4wc1YM",
        "outputId": "b2947d8f-479d-4172-eaef-abfa4ee73033"
      },
      "source": [
        "# Changing tensor type\n",
        "x = torch.Tensor(3,4)\n",
        "print(f\"Type:{x.type()}\")\n",
        "print(x)\n",
        "x = x.long()\n",
        "print(f\"Type:{x.type()}\")\n",
        "print(x)"
      ],
      "execution_count": 7,
      "outputs": [
        {
          "output_type": "stream",
          "text": [
            "Type:torch.FloatTensor\n",
            "tensor([[1.0013e-20, 3.0737e-41, 3.0000e+00, 4.0000e+00],\n",
            "        [5.0000e+00, 6.0000e+00, 1.3733e-14, 1.2102e+25],\n",
            "        [1.6992e-07, 2.9599e+21, 2.8175e+20, 1.7566e+25]])\n",
            "Type:torch.LongTensor\n",
            "tensor([[                   0,                    0,                    3,\n",
            "                            4],\n",
            "        [                   5,                    6,                    0,\n",
            "         -9223372036854775808],\n",
            "        [                   0, -9223372036854775808, -9223372036854775808,\n",
            "         -9223372036854775808]])\n"
          ],
          "name": "stdout"
        }
      ]
    },
    {
      "cell_type": "markdown",
      "metadata": {
        "id": "Jf0blBHpeCXi"
      },
      "source": [
        "## **Operations**"
      ]
    },
    {
      "cell_type": "code",
      "metadata": {
        "colab": {
          "base_uri": "https://localhost:8080/"
        },
        "id": "EHh5lOd3eE86",
        "outputId": "216e3475-8391-42ad-ca17-476654bc9e62"
      },
      "source": [
        "# Addition\n",
        "x = torch.randn(2,3)\n",
        "y = torch.randn(2,3)\n",
        "z = x + y\n",
        "print(f\"Shape:{z.shape}\")\n",
        "print(f\"Value;\\n{z}\")"
      ],
      "execution_count": 8,
      "outputs": [
        {
          "output_type": "stream",
          "text": [
            "Shape:torch.Size([2, 3])\n",
            "Value;\n",
            "tensor([[ 0.0761, -0.6775, -0.3988],\n",
            "        [ 3.0633, -0.1589,  0.3514]])\n"
          ],
          "name": "stdout"
        }
      ]
    },
    {
      "cell_type": "code",
      "metadata": {
        "colab": {
          "base_uri": "https://localhost:8080/"
        },
        "id": "xBCEVJhMgcDj",
        "outputId": "27b7f3c6-0a29-4248-dd9f-4c05e978b0da"
      },
      "source": [
        "# Dot product\n",
        "x = torch.randn(2,3)\n",
        "y = torch.randn(3,2)\n",
        "z = torch.mm(x,y)\n",
        "print(f\"Shape:{z.shape}\")\n",
        "print(f\"Values:\\n{z}\")\n"
      ],
      "execution_count": 9,
      "outputs": [
        {
          "output_type": "stream",
          "text": [
            "Shape:torch.Size([2, 2])\n",
            "Values:\n",
            "tensor([[ 1.0796, -0.0759],\n",
            "        [ 1.2746, -0.5134]])\n"
          ],
          "name": "stdout"
        }
      ]
    },
    {
      "cell_type": "code",
      "metadata": {
        "colab": {
          "base_uri": "https://localhost:8080/"
        },
        "id": "F5qQFa33iBcK",
        "outputId": "a1088e40-360b-4643-a8eb-a52bb6b796c4"
      },
      "source": [
        "# Transpose\n",
        "x = torch.randn(2,3)\n",
        "print(f\"Shape:{x.shape}\")\n",
        "print(f\"Values:\\n{x}\")\n",
        "y = torch.t(x)\n",
        "print(f\"Shape:{y.shape}\")\n",
        "print(f\"Values:\\n{y}\")"
      ],
      "execution_count": 10,
      "outputs": [
        {
          "output_type": "stream",
          "text": [
            "Shape:torch.Size([2, 3])\n",
            "Values:\n",
            "tensor([[ 0.8042, -0.1383,  0.3196],\n",
            "        [-1.0187, -1.3147,  2.5228]])\n",
            "Shape:torch.Size([3, 2])\n",
            "Values:\n",
            "tensor([[ 0.8042, -1.0187],\n",
            "        [-0.1383, -1.3147],\n",
            "        [ 0.3196,  2.5228]])\n"
          ],
          "name": "stdout"
        }
      ]
    },
    {
      "cell_type": "code",
      "metadata": {
        "colab": {
          "base_uri": "https://localhost:8080/"
        },
        "id": "WCARessii5PF",
        "outputId": "eedcefaf-4743-43e3-b920-c23cef9d51d8"
      },
      "source": [
        "# Reshape\n",
        "x = torch.randn(2,3)\n",
        "print(f\"Shape:{x.shape}\")\n",
        "print(f\"Values:\\n{x}\")\n",
        "y = x.view(3,2)\n",
        "print(f\"Shape:{y.shape}\")\n",
        "print(f\"Values:\\n{y}\")"
      ],
      "execution_count": 11,
      "outputs": [
        {
          "output_type": "stream",
          "text": [
            "Shape:torch.Size([2, 3])\n",
            "Values:\n",
            "tensor([[ 0.4501,  0.2709, -0.8087],\n",
            "        [-0.0217, -1.0413,  0.0702]])\n",
            "Shape:torch.Size([3, 2])\n",
            "Values:\n",
            "tensor([[ 0.4501,  0.2709],\n",
            "        [-0.8087, -0.0217],\n",
            "        [-1.0413,  0.0702]])\n"
          ],
          "name": "stdout"
        }
      ]
    },
    {
      "cell_type": "code",
      "metadata": {
        "colab": {
          "base_uri": "https://localhost:8080/"
        },
        "id": "5_Ip-u8QkWu-",
        "outputId": "94d73735-6534-4c51-e351-71d2849dd7e4"
      },
      "source": [
        "# Dangers of reshaping(unintended consequences)\n",
        "x = torch.Tensor([[[1,1,1,1],[2,2,2,2],[3,3,3,3]],[[10,10,10,10],[20,20,20,20],[30,30,30,30]]])\n",
        "print(f\"Size:{x.shape}\")\n",
        "print(f\"Values:\\n{x}\\n\")\n",
        "\n",
        "a = x.view(x.size(1), -1)\n",
        "print(f\"\\nSize:{a.shape}\")\n",
        "print(f\"Values:\\n{a}\\n\")\n",
        "\n",
        "b = x.transpose(0,1).contiguous()\n",
        "print(f\"\\nSize:{b.shape}\")\n",
        "print(f\"Values:\\n{b}\\n\")\n",
        "\n",
        "c = b.view(b.size(0), -1)\n",
        "print(f\"\\nSize:{c.shape}\")\n",
        "print(f\"Values:\\n{c}\\n\")"
      ],
      "execution_count": 12,
      "outputs": [
        {
          "output_type": "stream",
          "text": [
            "Size:torch.Size([2, 3, 4])\n",
            "Values:\n",
            "tensor([[[ 1.,  1.,  1.,  1.],\n",
            "         [ 2.,  2.,  2.,  2.],\n",
            "         [ 3.,  3.,  3.,  3.]],\n",
            "\n",
            "        [[10., 10., 10., 10.],\n",
            "         [20., 20., 20., 20.],\n",
            "         [30., 30., 30., 30.]]])\n",
            "\n",
            "\n",
            "Size:torch.Size([3, 8])\n",
            "Values:\n",
            "tensor([[ 1.,  1.,  1.,  1.,  2.,  2.,  2.,  2.],\n",
            "        [ 3.,  3.,  3.,  3., 10., 10., 10., 10.],\n",
            "        [20., 20., 20., 20., 30., 30., 30., 30.]])\n",
            "\n",
            "\n",
            "Size:torch.Size([3, 2, 4])\n",
            "Values:\n",
            "tensor([[[ 1.,  1.,  1.,  1.],\n",
            "         [10., 10., 10., 10.]],\n",
            "\n",
            "        [[ 2.,  2.,  2.,  2.],\n",
            "         [20., 20., 20., 20.]],\n",
            "\n",
            "        [[ 3.,  3.,  3.,  3.],\n",
            "         [30., 30., 30., 30.]]])\n",
            "\n",
            "\n",
            "Size:torch.Size([3, 8])\n",
            "Values:\n",
            "tensor([[ 1.,  1.,  1.,  1., 10., 10., 10., 10.],\n",
            "        [ 2.,  2.,  2.,  2., 20., 20., 20., 20.],\n",
            "        [ 3.,  3.,  3.,  3., 30., 30., 30., 30.]])\n",
            "\n"
          ],
          "name": "stdout"
        }
      ]
    },
    {
      "cell_type": "code",
      "metadata": {
        "colab": {
          "base_uri": "https://localhost:8080/"
        },
        "id": "bjj9qQaGsVQL",
        "outputId": "8022c3ed-6034-422c-e63e-1cd23dca8f7d"
      },
      "source": [
        "# Dimensional operations\n",
        "x = torch.randn(2,3)\n",
        "print(f\"Values:\\n{x}\")\n",
        "y = torch.sum(x, dim=0)\n",
        "print(f\"Values:\\n{y}\")\n",
        "z = torch.sum(x, dim=1)\n",
        "print(f\"Values:\\n{z}\")"
      ],
      "execution_count": 13,
      "outputs": [
        {
          "output_type": "stream",
          "text": [
            "Values:\n",
            "tensor([[ 0.5797, -0.0599,  0.1816],\n",
            "        [-0.6797, -0.2567, -1.8189]])\n",
            "Values:\n",
            "tensor([-0.1000, -0.3166, -1.6373])\n",
            "Values:\n",
            "tensor([ 0.7013, -2.7553])\n"
          ],
          "name": "stdout"
        }
      ]
    },
    {
      "cell_type": "markdown",
      "metadata": {
        "id": "7Or9yaunuWxf"
      },
      "source": [
        "## **Indexing**"
      ]
    },
    {
      "cell_type": "code",
      "metadata": {
        "colab": {
          "base_uri": "https://localhost:8080/"
        },
        "id": "fRAN1oruuHck",
        "outputId": "ed4e749b-31bb-45b9-f015-7bafeedf397b"
      },
      "source": [
        "x = torch.randn(3,4)\n",
        "print(f\"x:\\n{x}\")\n",
        "print(f\"x[:1]:\\n{x[:1]}\")\n",
        "print(f\"x[:1, 1:3]:\\n{x[:1, 1:3]}\")"
      ],
      "execution_count": 14,
      "outputs": [
        {
          "output_type": "stream",
          "text": [
            "x:\n",
            "tensor([[ 0.2111,  0.3372,  0.6638,  1.0397],\n",
            "        [ 1.8434,  0.6588, -0.2349, -0.0306],\n",
            "        [ 1.7462, -0.0722, -1.6794, -1.7010]])\n",
            "x[:1]:\n",
            "tensor([[0.2111, 0.3372, 0.6638, 1.0397]])\n",
            "x[:1, 1:3]:\n",
            "tensor([[0.3372, 0.6638]])\n"
          ],
          "name": "stdout"
        }
      ]
    },
    {
      "cell_type": "markdown",
      "metadata": {
        "id": "Mq6_EDP0vdFK"
      },
      "source": [
        "## **Slicing**"
      ]
    },
    {
      "cell_type": "code",
      "metadata": {
        "id": "ADKBhnjGvfuG",
        "colab": {
          "base_uri": "https://localhost:8080/"
        },
        "outputId": "99ca8308-1193-4500-beba-d32f918a2ee4"
      },
      "source": [
        "# Select twith dimensional indices\n",
        "x = torch.randn(2,3)\n",
        "print(f\"Values:\\n{x}\")\n",
        "\n",
        "col_indices = torch.LongTensor([0,2])\n",
        "chosen = torch.index_select(x, dim=1, index=col_indices)\n",
        "print(f\"Values:\\n{chosen}\")\n",
        "\n",
        "row_indices = torch.LongTensor([0,1])\n",
        "col_indices = torch.LongTensor([0,2])\n",
        "chosen = x[row_indices, col_indices]\n",
        "print(f\"Values:\\n{chosen}\")\n"
      ],
      "execution_count": 20,
      "outputs": [
        {
          "output_type": "stream",
          "text": [
            "Values:\n",
            "tensor([[-0.3449, -1.5447,  0.0685],\n",
            "        [-1.5104, -1.1706,  0.2259]])\n",
            "Values:\n",
            "tensor([[-0.3449,  0.0685],\n",
            "        [-1.5104,  0.2259]])\n",
            "Values:\n",
            "tensor([-0.3449,  0.2259])\n"
          ],
          "name": "stdout"
        }
      ]
    },
    {
      "cell_type": "markdown",
      "metadata": {
        "id": "hH_Wx0O7iEK4"
      },
      "source": [
        "## **Joining**"
      ]
    },
    {
      "cell_type": "code",
      "metadata": {
        "colab": {
          "base_uri": "https://localhost:8080/"
        },
        "id": "ZrLa9zMFeirg",
        "outputId": "3a84e4fa-4ccb-4fa6-a4dc-85a8a794cedc"
      },
      "source": [
        "# Concatenation\n",
        "x = torch.Tensor(2,3)\n",
        "print(f\"Values:\\n{x}\")\n",
        "x = torch.cat([x,x], dim=0)\n",
        "print(f\"Values;\\n{x}\")"
      ],
      "execution_count": 24,
      "outputs": [
        {
          "output_type": "stream",
          "text": [
            "Values:\n",
            "tensor([[1.6796e-20, 3.0737e-41, 3.3631e-44],\n",
            "        [0.0000e+00,        nan, 0.0000e+00]])\n",
            "Values;\n",
            "tensor([[1.6796e-20, 3.0737e-41, 3.3631e-44],\n",
            "        [0.0000e+00,        nan, 0.0000e+00],\n",
            "        [1.6796e-20, 3.0737e-41, 3.3631e-44],\n",
            "        [0.0000e+00,        nan, 0.0000e+00]])\n"
          ],
          "name": "stdout"
        }
      ]
    },
    {
      "cell_type": "markdown",
      "metadata": {
        "id": "0CCvcvltjags"
      },
      "source": [
        "## **Gradients**"
      ]
    },
    {
      "cell_type": "code",
      "metadata": {
        "colab": {
          "base_uri": "https://localhost:8080/"
        },
        "id": "-dMntwXAjgyK",
        "outputId": "2c9cea34-6032-4f7e-ded4-e2cc0312ba38"
      },
      "source": [
        "# Tensors with gradient bookkeeping\n",
        "x = torch.rand(3,4,requires_grad=True)\n",
        "y = 3*x + 2\n",
        "z = y.mean()\n",
        "z.backward()\n",
        "print(f\"x:\\n{x}\")\n",
        "print(f\"x.grad:\\n{x.grad}\")\n"
      ],
      "execution_count": 28,
      "outputs": [
        {
          "output_type": "stream",
          "text": [
            "x:\n",
            "tensor([[0.2008, 0.5610, 0.4073, 0.6077],\n",
            "        [0.3811, 0.1727, 0.5664, 0.8386],\n",
            "        [0.1998, 0.9383, 0.6231, 0.9930]], requires_grad=True)\n",
            "x.grad:\n",
            "tensor([[0.2500, 0.2500, 0.2500, 0.2500],\n",
            "        [0.2500, 0.2500, 0.2500, 0.2500],\n",
            "        [0.2500, 0.2500, 0.2500, 0.2500]])\n"
          ],
          "name": "stdout"
        }
      ]
    },
    {
      "cell_type": "markdown",
      "metadata": {
        "id": "UpQ5I0vvp85r"
      },
      "source": [
        "## **CUDA**"
      ]
    },
    {
      "cell_type": "code",
      "metadata": {
        "colab": {
          "base_uri": "https://localhost:8080/"
        },
        "id": "Y5H8HRMRp-1H",
        "outputId": "14e58c49-5b1b-4253-add8-78a92a65cced"
      },
      "source": [
        "#Is CUDA available\n",
        "print(torch.cuda.is_available())"
      ],
      "execution_count": 29,
      "outputs": [
        {
          "output_type": "stream",
          "text": [
            "False\n"
          ],
          "name": "stdout"
        }
      ]
    },
    {
      "cell_type": "code",
      "metadata": {
        "colab": {
          "base_uri": "https://localhost:8080/"
        },
        "id": "I99OApWFq3vI",
        "outputId": "07e59569-3b01-4a0c-c96a-34e8583477ac"
      },
      "source": [
        "import torch\n",
        "#Is CUDA availabe\n",
        "print(torch.cuda.is_available())"
      ],
      "execution_count": 1,
      "outputs": [
        {
          "output_type": "stream",
          "text": [
            "True\n"
          ],
          "name": "stdout"
        }
      ]
    },
    {
      "cell_type": "code",
      "metadata": {
        "colab": {
          "base_uri": "https://localhost:8080/"
        },
        "id": "a7XbhLkTtTB5",
        "outputId": "6b94af44-05fd-4815-e22a-8c575f8b44bb"
      },
      "source": [
        "# Set device\n",
        "device= torch.device('cuda' if torch.cuda.is_available() else 'cpu')\n",
        "print(device)"
      ],
      "execution_count": 3,
      "outputs": [
        {
          "output_type": "stream",
          "text": [
            "cuda\n"
          ],
          "name": "stdout"
        }
      ]
    },
    {
      "cell_type": "code",
      "metadata": {
        "colab": {
          "base_uri": "https://localhost:8080/"
        },
        "id": "GVD5wLcVtnGU",
        "outputId": "3bf8210a-be71-47bd-e011-ba0b574e7cad"
      },
      "source": [
        "x = torch.rand(2,3)\n",
        "print(x.is_cuda)\n",
        "x = torch.rand(2,3).to(device) #Tensor is stored in the GPU\n",
        "print(x.is_cuda)"
      ],
      "execution_count": 5,
      "outputs": [
        {
          "output_type": "stream",
          "text": [
            "False\n",
            "True\n"
          ],
          "name": "stdout"
        }
      ]
    }
  ]
}