{
  "nbformat": 4,
  "nbformat_minor": 0,
  "metadata": {
    "colab": {
      "name": "PyTorch Fundamentals.ipynb",
      "provenance": [],
      "collapsed_sections": [],
      "authorship_tag": "ABX9TyOMU4f//M3nnXKvvUFW57MR",
      "include_colab_link": true
    },
    "kernelspec": {
      "name": "python3",
      "display_name": "Python 3"
    },
    "language_info": {
      "name": "python"
    }
  },
  "cells": [
    {
      "cell_type": "markdown",
      "metadata": {
        "id": "view-in-github",
        "colab_type": "text"
      },
      "source": [
        "<a href=\"https://colab.research.google.com/github/LZY199/PracticalAI/blob/main/PyTorch_Fundamentals.ipynb\" target=\"_parent\"><img src=\"https://colab.research.google.com/assets/colab-badge.svg\" alt=\"Open In Colab\"/></a>"
      ]
    },
    {
      "cell_type": "code",
      "metadata": {
        "colab": {
          "base_uri": "https://localhost:8080/"
        },
        "id": "gNeXi_CYSOyk",
        "outputId": "d6d39f74-bfb0-41d8-a7b6-e02c6acee64e"
      },
      "source": [
        "import numpy as np\n",
        "import torch\n",
        "SEED = 1234\n",
        "\n",
        "# Set seed for reproducibility\n",
        "np.random.seed(seed=SEED)\n",
        "torch.manual_seed(SEED)"
      ],
      "execution_count": 2,
      "outputs": [
        {
          "output_type": "execute_result",
          "data": {
            "text/plain": [
              "<torch._C.Generator at 0x7febe3afca70>"
            ]
          },
          "metadata": {
            "tags": []
          },
          "execution_count": 2
        }
      ]
    },
    {
      "cell_type": "markdown",
      "metadata": {
        "id": "ToQX2UL2VKtw"
      },
      "source": [
        "## **Basics**"
      ]
    },
    {
      "cell_type": "code",
      "metadata": {
        "colab": {
          "base_uri": "https://localhost:8080/"
        },
        "id": "KVYiTODDVORR",
        "outputId": "fd4fe7c2-e0d2-4cd3-c337-abfcb681c5af"
      },
      "source": [
        "# Creating a random tensor\n",
        "x = torch.randn(2,3)\n",
        "print(\"Type:\", x.type())\n",
        "print(\"Size:\", x.shape)\n",
        "print(f\"Values:\\n{x}\")"
      ],
      "execution_count": 16,
      "outputs": [
        {
          "output_type": "stream",
          "text": [
            "Type: torch.FloatTensor\n",
            "Size: torch.Size([2, 3])\n",
            "Values:\n",
            "tensor([[ 0.6486,  1.7653,  1.0812],\n",
            "        [ 1.2436,  0.8971, -0.0784]])\n"
          ],
          "name": "stdout"
        }
      ]
    },
    {
      "cell_type": "code",
      "metadata": {
        "colab": {
          "base_uri": "https://localhost:8080/"
        },
        "id": "GWlX8pqnZM5N",
        "outputId": "fbefc133-c139-4627-aba7-30f62745b6fc"
      },
      "source": [
        "# Zero and Ones tensor\n",
        "x = torch.zeros(2,3)\n",
        "print(x)\n",
        "x = torch.ones(2,3)\n",
        "print(x)"
      ],
      "execution_count": 5,
      "outputs": [
        {
          "output_type": "stream",
          "text": [
            "tensor([[0., 0., 0.],\n",
            "        [0., 0., 0.]])\n",
            "tensor([[1., 1., 1.],\n",
            "        [1., 1., 1.]])\n"
          ],
          "name": "stdout"
        }
      ]
    },
    {
      "cell_type": "code",
      "metadata": {
        "colab": {
          "base_uri": "https://localhost:8080/"
        },
        "id": "fsi3o4LNbMQR",
        "outputId": "6a015dac-3622-48b3-ca44-d311797fe5f6"
      },
      "source": [
        "# List -> Tensor\n",
        "x = torch.Tensor([[1,2,3],[4,5,6]])\n",
        "print(f\"Size:{x.shape}\")\n",
        "print(f\"Values:\\n{x}\")"
      ],
      "execution_count": 19,
      "outputs": [
        {
          "output_type": "stream",
          "text": [
            "Size:torch.Size([2, 3])\n",
            "Values:\n",
            "tensor([[1., 2., 3.],\n",
            "        [4., 5., 6.]])\n"
          ],
          "name": "stdout"
        }
      ]
    },
    {
      "cell_type": "code",
      "metadata": {
        "colab": {
          "base_uri": "https://localhost:8080/"
        },
        "id": "9qYzNYGYcari",
        "outputId": "773a3cec-7264-4590-dd6b-4b05f7a4e7f2"
      },
      "source": [
        "# NumPy array -> Tensor\n",
        "x = torch.Tensor(np.random.rand(2,3))\n",
        "print(f\"Size:{x.shape}\")\n",
        "print(f\"Value:\\n{x}\")"
      ],
      "execution_count": 20,
      "outputs": [
        {
          "output_type": "stream",
          "text": [
            "Size:torch.Size([2, 3])\n",
            "Value:\n",
            "tensor([[0.1915, 0.6221, 0.4377],\n",
            "        [0.7854, 0.7800, 0.2726]])\n"
          ],
          "name": "stdout"
        }
      ]
    },
    {
      "cell_type": "code",
      "metadata": {
        "colab": {
          "base_uri": "https://localhost:8080/"
        },
        "id": "K1h_y-4wc1YM",
        "outputId": "a744d6ea-2919-4c74-e6c0-ceb9dbe4bae7"
      },
      "source": [
        "# Changing tensor type\n",
        "x = torch.Tensor(3,4)\n",
        "print(f\"Type:{x.type()}\")\n",
        "print(x)\n",
        "x = x.long()\n",
        "print(f\"Type:{x.type()}\")\n",
        "print(x)"
      ],
      "execution_count": 27,
      "outputs": [
        {
          "output_type": "stream",
          "text": [
            "Type:torch.FloatTensor\n",
            "tensor([[6.6364e-01, 3.0726e-41, 3.3631e-44, 0.0000e+00],\n",
            "        [       nan, 7.9984e+11, 4.4721e+21, 1.5956e+25],\n",
            "        [4.7399e+16, 1.4917e-07, 6.1975e+26, 5.0583e+33]])\n",
            "Type:torch.LongTensor\n",
            "tensor([[                   0,                    0,                    0,\n",
            "                            0],\n",
            "        [-9223372036854775808,         799840141312, -9223372036854775808,\n",
            "         -9223372036854775808],\n",
            "        [   47399370747805696,                    0, -9223372036854775808,\n",
            "         -9223372036854775808]])\n"
          ],
          "name": "stdout"
        }
      ]
    },
    {
      "cell_type": "markdown",
      "metadata": {
        "id": "Jf0blBHpeCXi"
      },
      "source": [
        "## **Operations**"
      ]
    },
    {
      "cell_type": "code",
      "metadata": {
        "colab": {
          "base_uri": "https://localhost:8080/"
        },
        "id": "EHh5lOd3eE86",
        "outputId": "469efc4d-1a08-4249-a165-569fc3893981"
      },
      "source": [
        "# Addition\n",
        "x = torch.randn(2,3)\n",
        "y = torch.randn(2,3)\n",
        "z = x + y\n",
        "print(f\"Shape:{z.shape}\")\n",
        "print(f\"Value;\\n{z}\")"
      ],
      "execution_count": 25,
      "outputs": [
        {
          "output_type": "stream",
          "text": [
            "Shape:torch.Size([2, 3])\n",
            "Value;\n",
            "tensor([[ 1.3794, -0.6568,  0.1027],\n",
            "        [-0.8088, -2.8354, -0.0203]])\n"
          ],
          "name": "stdout"
        }
      ]
    },
    {
      "cell_type": "code",
      "metadata": {
        "colab": {
          "base_uri": "https://localhost:8080/"
        },
        "id": "xBCEVJhMgcDj",
        "outputId": "0b7ed97c-29d8-4aaf-e73f-6be51a92b4be"
      },
      "source": [
        "# Dot product\n",
        "x = torch.randn(2,3)\n",
        "y = torch.randn(3,2)\n",
        "z = torch.mm(x,y)\n",
        "print(f\"Shape:{z.shape}\")\n",
        "print(f\"Values:\\n{z}\")\n"
      ],
      "execution_count": 28,
      "outputs": [
        {
          "output_type": "stream",
          "text": [
            "Shape:torch.Size([2, 2])\n",
            "Values:\n",
            "tensor([[-3.5190,  1.6532],\n",
            "        [-4.3273,  2.7265]])\n"
          ],
          "name": "stdout"
        }
      ]
    },
    {
      "cell_type": "code",
      "metadata": {
        "colab": {
          "base_uri": "https://localhost:8080/"
        },
        "id": "F5qQFa33iBcK",
        "outputId": "863e59e9-8ac2-46bb-859c-bbc6a2f755dc"
      },
      "source": [
        "# Transpose\n",
        "x = torch.randn(2,3)\n",
        "print(f\"Shape:{x.shape}\")\n",
        "print(f\"Values:\\n{x}\")\n",
        "y = torch.t(x)\n",
        "print(f\"Shape:{y.shape}\")\n",
        "print(f\"Values:\\n{y}\")"
      ],
      "execution_count": 29,
      "outputs": [
        {
          "output_type": "stream",
          "text": [
            "Shape:torch.Size([2, 3])\n",
            "Values:\n",
            "tensor([[-0.4572,  0.0901,  0.4018],\n",
            "        [-1.1542,  0.1192, -0.7348]])\n",
            "Shape:torch.Size([3, 2])\n",
            "Values:\n",
            "tensor([[-0.4572, -1.1542],\n",
            "        [ 0.0901,  0.1192],\n",
            "        [ 0.4018, -0.7348]])\n"
          ],
          "name": "stdout"
        }
      ]
    },
    {
      "cell_type": "code",
      "metadata": {
        "colab": {
          "base_uri": "https://localhost:8080/"
        },
        "id": "WCARessii5PF",
        "outputId": "00a047df-882e-47e5-ea85-ca484e48f1ad"
      },
      "source": [
        "# Reshape\n",
        "x = torch.randn(2,3)\n",
        "print(f\"Shape:{x.shape}\")\n",
        "print(f\"Values:\\n{x}\")\n",
        "y = x.view(3,2)\n",
        "print(f\"Shape:{y.shape}\")\n",
        "print(f\"Values:\\n{y}\")"
      ],
      "execution_count": 32,
      "outputs": [
        {
          "output_type": "stream",
          "text": [
            "Shape:torch.Size([2, 3])\n",
            "Values:\n",
            "tensor([[-0.6066, -0.4800,  1.1733],\n",
            "        [ 0.3714, -2.3531, -1.6705]])\n",
            "Shape:torch.Size([3, 2])\n",
            "Values:\n",
            "tensor([[-0.6066, -0.4800],\n",
            "        [ 1.1733,  0.3714],\n",
            "        [-2.3531, -1.6705]])\n"
          ],
          "name": "stdout"
        }
      ]
    },
    {
      "cell_type": "code",
      "metadata": {
        "colab": {
          "base_uri": "https://localhost:8080/"
        },
        "id": "5_Ip-u8QkWu-",
        "outputId": "8a099897-5cf7-4600-8995-501f2816747b"
      },
      "source": [
        "# Dangers of reshaping(unintended consequences)\n",
        "x = torch.Tensor([[[1,1,1,1],[2,2,2,2],[3,3,3,3]],[[10,10,10,10],[20,20,20,20],[30,30,30,30]]])\n",
        "print(f\"Size:{x.shape}\")\n",
        "print(f\"Values:\\n{x}\\n\")\n",
        "\n",
        "a = x.view(x.size(1), -1)\n",
        "print(f\"\\nSize:{a.shape}\")\n",
        "print(f\"Values:\\n{a}\\n\")\n",
        "\n",
        "b = x.transpose(0,1).contiguous()\n",
        "print(f\"\\nSize:{b.shape}\")\n",
        "print(f\"Values:\\n{b}\\n\")\n",
        "\n",
        "c = b.view(b.size(0), -1)\n",
        "print(f\"\\nSize:{c.shape}\")\n",
        "print(f\"Values:\\n{c}\\n\")"
      ],
      "execution_count": 40,
      "outputs": [
        {
          "output_type": "stream",
          "text": [
            "Size:torch.Size([2, 3, 4])\n",
            "Values:\n",
            "tensor([[[ 1.,  1.,  1.,  1.],\n",
            "         [ 2.,  2.,  2.,  2.],\n",
            "         [ 3.,  3.,  3.,  3.]],\n",
            "\n",
            "        [[10., 10., 10., 10.],\n",
            "         [20., 20., 20., 20.],\n",
            "         [30., 30., 30., 30.]]])\n",
            "\n",
            "\n",
            "Size:torch.Size([3, 8])\n",
            "Values:\n",
            "tensor([[ 1.,  1.,  1.,  1.,  2.,  2.,  2.,  2.],\n",
            "        [ 3.,  3.,  3.,  3., 10., 10., 10., 10.],\n",
            "        [20., 20., 20., 20., 30., 30., 30., 30.]])\n",
            "\n",
            "\n",
            "Size:torch.Size([3, 2, 4])\n",
            "Values:\n",
            "tensor([[[ 1.,  1.,  1.,  1.],\n",
            "         [10., 10., 10., 10.]],\n",
            "\n",
            "        [[ 2.,  2.,  2.,  2.],\n",
            "         [20., 20., 20., 20.]],\n",
            "\n",
            "        [[ 3.,  3.,  3.,  3.],\n",
            "         [30., 30., 30., 30.]]])\n",
            "\n",
            "\n",
            "Size:torch.Size([3, 8])\n",
            "Values:\n",
            "tensor([[ 1.,  1.,  1.,  1., 10., 10., 10., 10.],\n",
            "        [ 2.,  2.,  2.,  2., 20., 20., 20., 20.],\n",
            "        [ 3.,  3.,  3.,  3., 30., 30., 30., 30.]])\n",
            "\n"
          ],
          "name": "stdout"
        }
      ]
    },
    {
      "cell_type": "code",
      "metadata": {
        "colab": {
          "base_uri": "https://localhost:8080/"
        },
        "id": "bjj9qQaGsVQL",
        "outputId": "eab229bc-c144-47e4-c255-c296c47ee7d5"
      },
      "source": [
        "# Dimensional operations\n",
        "x = torch.randn(2,3)\n",
        "print(f\"Values:\\n{x}\")\n",
        "y = torch.sum(x, dim=0)\n",
        "print(f\"Values:\\n{y}\")\n",
        "z = torch.sum(x, dim=1)\n",
        "print(f\"Values:\\n{z}\")"
      ],
      "execution_count": 43,
      "outputs": [
        {
          "output_type": "stream",
          "text": [
            "Values:\n",
            "tensor([[-1.3690,  0.5650,  0.4014],\n",
            "        [ 1.3987,  0.7018, -0.4901]])\n",
            "Values:\n",
            "tensor([ 0.0297,  1.2668, -0.0887])\n",
            "Values:\n",
            "tensor([-0.4026,  1.6103])\n"
          ],
          "name": "stdout"
        }
      ]
    },
    {
      "cell_type": "markdown",
      "metadata": {
        "id": "7Or9yaunuWxf"
      },
      "source": [
        "## **Indexing**"
      ]
    },
    {
      "cell_type": "code",
      "metadata": {
        "colab": {
          "base_uri": "https://localhost:8080/"
        },
        "id": "fRAN1oruuHck",
        "outputId": "4b892a5e-b760-403f-9791-ed07dcd0e833"
      },
      "source": [
        "x = torch.randn(3,4)\n",
        "print(f\"x:\\n{x}\")\n",
        "print(f\"x[:1]:\\n{x[:1]}\")\n",
        "print(f\"x[:1, 1:3]:\\n{x[:1, 1:3]}\")"
      ],
      "execution_count": 44,
      "outputs": [
        {
          "output_type": "stream",
          "text": [
            "x:\n",
            "tensor([[ 0.4623, -2.1142, -1.0605,  0.4071],\n",
            "        [ 1.3052,  0.4336, -1.0205,  1.7036],\n",
            "        [ 0.7460,  0.9729, -0.9361,  0.7700]])\n",
            "x[:1]:\n",
            "tensor([[ 0.4623, -2.1142, -1.0605,  0.4071]])\n",
            "x[:1, 1:3]:\n",
            "tensor([[-2.1142, -1.0605]])\n"
          ],
          "name": "stdout"
        }
      ]
    },
    {
      "cell_type": "markdown",
      "metadata": {
        "id": "Mq6_EDP0vdFK"
      },
      "source": [
        "## **Slicing**"
      ]
    },
    {
      "cell_type": "code",
      "metadata": {
        "id": "ADKBhnjGvfuG"
      },
      "source": [
        ""
      ],
      "execution_count": null,
      "outputs": []
    }
  ]
}