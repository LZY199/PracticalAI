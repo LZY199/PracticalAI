{
  "nbformat": 4,
  "nbformat_minor": 0,
  "metadata": {
    "colab": {
      "name": "Linear Regression.ipynb",
      "provenance": [],
      "authorship_tag": "ABX9TyN11qgoEdbQwmLHbikj9Eb3",
      "include_colab_link": true
    },
    "kernelspec": {
      "name": "python3",
      "display_name": "Python 3"
    },
    "language_info": {
      "name": "python"
    }
  },
  "cells": [
    {
      "cell_type": "markdown",
      "metadata": {
        "id": "view-in-github",
        "colab_type": "text"
      },
      "source": [
        "<a href=\"https://colab.research.google.com/github/LZY199/PracticalAI/blob/main/Linear_Regression.ipynb\" target=\"_parent\"><img src=\"https://colab.research.google.com/assets/colab-badge.svg\" alt=\"Open In Colab\"/></a>"
      ]
    },
    {
      "cell_type": "markdown",
      "metadata": {
        "id": "FK1_5yYL9LsS"
      },
      "source": [
        "## **Generate Data**"
      ]
    },
    {
      "cell_type": "code",
      "metadata": {
        "colab": {
          "base_uri": "https://localhost:8080/"
        },
        "id": "GsuhFWhf2wUY",
        "outputId": "ac0dc73f-db4a-42cc-87c0-1b205bd282b5"
      },
      "source": [
        "import numpy as np\n",
        "import pandas as pd\n",
        "import matplotlib.pyplot as plt\n",
        "\n",
        "SEED = 1234\n",
        "NUM_SAMPLES = 50\n",
        "\n",
        "# Set seend for reproducibility\n",
        "np.random.seed(SEED)\n",
        "\n",
        "# Generate synthetic data\n",
        "def generate_data(num_samples):\n",
        "  \"\"\"Generate dummy data for linear regression.\"\"\"\n",
        "  X = np.array(range(num_samples))\n",
        "  noise = np.random.uniform(-10, 20, size=num_samples)\n",
        "  y = 3.5*X + noise\n",
        "  return X, y\n",
        "\n",
        "# Generate randome(linear data)\n",
        "X,y = generate_data(NUM_SAMPLES)\n",
        "data = np.vstack((X,y)).T\n",
        "print(data[:5])"
      ],
      "execution_count": 1,
      "outputs": [
        {
          "output_type": "stream",
          "text": [
            "[[ 0.         -4.25441649]\n",
            " [ 1.         12.16326313]\n",
            " [ 2.         10.13183217]\n",
            " [ 3.         24.06075751]\n",
            " [ 4.         27.39927424]]\n"
          ],
          "name": "stdout"
        }
      ]
    },
    {
      "cell_type": "code",
      "metadata": {
        "colab": {
          "base_uri": "https://localhost:8080/",
          "height": 205
        },
        "id": "5ks1kBaLAvso",
        "outputId": "a86ffa1a-0006-473c-bf9b-bcfa6de90e25"
      },
      "source": [
        "# Load into a Pandas DataFrame\n",
        "df = pd.DataFrame(data, columns=['X', 'y'])\n",
        "X = df[['X']].values\n",
        "y = df[['y']].values\n",
        "df.head()"
      ],
      "execution_count": 6,
      "outputs": [
        {
          "output_type": "execute_result",
          "data": {
            "text/html": [
              "<div>\n",
              "<style scoped>\n",
              "    .dataframe tbody tr th:only-of-type {\n",
              "        vertical-align: middle;\n",
              "    }\n",
              "\n",
              "    .dataframe tbody tr th {\n",
              "        vertical-align: top;\n",
              "    }\n",
              "\n",
              "    .dataframe thead th {\n",
              "        text-align: right;\n",
              "    }\n",
              "</style>\n",
              "<table border=\"1\" class=\"dataframe\">\n",
              "  <thead>\n",
              "    <tr style=\"text-align: right;\">\n",
              "      <th></th>\n",
              "      <th>X</th>\n",
              "      <th>y</th>\n",
              "    </tr>\n",
              "  </thead>\n",
              "  <tbody>\n",
              "    <tr>\n",
              "      <th>0</th>\n",
              "      <td>0.0</td>\n",
              "      <td>-4.254416</td>\n",
              "    </tr>\n",
              "    <tr>\n",
              "      <th>1</th>\n",
              "      <td>1.0</td>\n",
              "      <td>12.163263</td>\n",
              "    </tr>\n",
              "    <tr>\n",
              "      <th>2</th>\n",
              "      <td>2.0</td>\n",
              "      <td>10.131832</td>\n",
              "    </tr>\n",
              "    <tr>\n",
              "      <th>3</th>\n",
              "      <td>3.0</td>\n",
              "      <td>24.060758</td>\n",
              "    </tr>\n",
              "    <tr>\n",
              "      <th>4</th>\n",
              "      <td>4.0</td>\n",
              "      <td>27.399274</td>\n",
              "    </tr>\n",
              "  </tbody>\n",
              "</table>\n",
              "</div>"
            ],
            "text/plain": [
              "     X          y\n",
              "0  0.0  -4.254416\n",
              "1  1.0  12.163263\n",
              "2  2.0  10.131832\n",
              "3  3.0  24.060758\n",
              "4  4.0  27.399274"
            ]
          },
          "metadata": {
            "tags": []
          },
          "execution_count": 6
        }
      ]
    },
    {
      "cell_type": "code",
      "metadata": {
        "colab": {
          "base_uri": "https://localhost:8080/",
          "height": 281
        },
        "id": "8n1mrCjkB-ZQ",
        "outputId": "8a663195-5376-445e-a57a-cbe61231b585"
      },
      "source": [
        "# Scatter Plot\n",
        "plt.title(\"Generate data\")\n",
        "plt.scatter(x=df['X'], y=df['y'])\n",
        "plt.show()"
      ],
      "execution_count": 7,
      "outputs": [
        {
          "output_type": "display_data",
          "data": {
            "image/png": "[encoded data removed]",
            "text/plain": [
              "<Figure size 432x288 with 1 Axes>"
            ]
          },
          "metadata": {
            "tags": [],
            "needs_background": "light"
          }
        }
      ]
    },
    {
      "cell_type": "markdown",
      "metadata": {
        "id": "fvGCLsupC7xs"
      },
      "source": [
        "## **Numpy**\n",
        "Data is already prepared. Going to first implement linear regression using just Numpy.  "
      ]
    },
    {
      "cell_type": "markdown",
      "metadata": {
        "id": "JJZF4O79DQcr"
      },
      "source": [
        "## **Split Data**\n",
        "Split dataset into three sets: train, validation and test data splits.\n",
        "\n",
        "\n",
        "*   train: used to train model.\n",
        "*   val: used to validate our model's performance during training.\n",
        "*   test: used to do an evaluation of our fully trained model.\n",
        "\n",
        "\n",
        "\n"
      ]
    },
    {
      "cell_type": "code",
      "metadata": {
        "colab": {
          "base_uri": "https://localhost:8080/"
        },
        "id": "0-6QN-1KC7ad",
        "outputId": "35ba4bf4-a5cb-4f8f-9f56-415a1692a4a1"
      },
      "source": [
        "TRAIN_SIZE = 0.7\n",
        "VAL_SIZE = 0.15\n",
        "TEST_SIZE = 0.15\n",
        "\n",
        "# Shuffle data\n",
        "indices = list(range(NUM_SAMPLES))\n",
        "np.random.shuffle(indices)\n",
        "X = X[indices]\n",
        "y = y[indices]\n",
        "\n",
        "# Split indices\n",
        "train_start = 0\n",
        "train_end = int(TRAIN_SIZE * NUM_SAMPLES)\n",
        "val_start = train_end\n",
        "val_end = int((TRAIN_SIZE + VAL_SIZE)* NUM_SAMPLES)\n",
        "test_start = val_end\n",
        "test_end = NUM_SAMPLES\n",
        "\n",
        "# Split Data\n",
        "X_train = X[train_start:train_end]\n",
        "y_train = y[train_start:train_end]\n",
        "X_val = X[val_start:val_end]\n",
        "y_val = y[val_start:val_end]\n",
        "X_test = X[test_start:test_end]\n",
        "y_test = y[test_start:test_end]\n",
        "\n",
        "print(f\"X_train:{X_train.shape}, y_train:{y_train.shape}\")\n",
        "print(f\"X_val:{X_val.shape}, y_val:{y_val.shape}\")\n",
        "print(f\"X_test:{X_test.shape}, y_test:{y_test.shape}\")"
      ],
      "execution_count": 9,
      "outputs": [
        {
          "output_type": "stream",
          "text": [
            "X_train:(35, 1), y_train:(35, 1)\n",
            "X_val:(7, 1), y_val:(7, 1)\n",
            "X_test:(8, 1), y_test:(8, 1)\n"
          ],
          "name": "stdout"
        }
      ]
    },
    {
      "cell_type": "markdown",
      "metadata": {
        "id": "0pspT8CYMUy-"
      },
      "source": [
        "## **Standardize data**"
      ]
    },
    {
      "cell_type": "code",
      "metadata": {
        "id": "Yrtl2ZKtMPlo"
      },
      "source": [
        "def standardize_data(data, mean, std):\n",
        "  return (data-mean)/std\n",
        "\n",
        "# Determine means and stds\n",
        "X_mean = np.mean(X_train)\n",
        "X_std = np.std(X_train)\n",
        "y_mean = np.mean(y_train)\n",
        "y_std = np.std(y_train)"
      ],
      "execution_count": 10,
      "outputs": []
    },
    {
      "cell_type": "markdown",
      "metadata": {
        "id": "DQKCT-9sPeNl"
      },
      "source": [
        "Need to treat the validation and test sets as if they were hidden datasets. So only use the train set to determine the mean and std to avoid biasing our training process."
      ]
    },
    {
      "cell_type": "code",
      "metadata": {
        "id": "UinCIZ2ZP8JR"
      },
      "source": [
        "X_train = standardize_data(X_train, X_mean, X_std)\n",
        "y_train = standardize_data(y_train, y_mean, y_std)\n",
        "X_val = standardize_data(X_val, X_mean, X_std)\n",
        "y_val = standardize_data(y_val, y_mean, y_std)\n",
        "X_test = standardize_data(X_test, X_mean, X_std)\n",
        "y_test = standardize_data(y_test, y_mean, y_std)\n",
        "\n",
        "# Check (mean should be about 0 and std shoulb be about 1)\n",
        "\n"
      ],
      "execution_count": null,
      "outputs": []
    }
  ]
}