{
  "nbformat": 4,
  "nbformat_minor": 0,
  "metadata": {
    "colab": {
      "name": "Linear Regression.ipynb",
      "provenance": [],
      "collapsed_sections": [],
      "authorship_tag": "ABX9TyNqotHGC0KM/yKtSnnsoWnL",
      "include_colab_link": true
    },
    "kernelspec": {
      "name": "python3",
      "display_name": "Python 3"
    },
    "language_info": {
      "name": "python"
    }
  },
  "cells": [
    {
      "cell_type": "markdown",
      "metadata": {
        "id": "view-in-github",
        "colab_type": "text"
      },
      "source": [
        "<a href=\"https://colab.research.google.com/github/LZY199/PracticalAI/blob/main/Linear_Regression.ipynb\" target=\"_parent\"><img src=\"https://colab.research.google.com/assets/colab-badge.svg\" alt=\"Open In Colab\"/></a>"
      ]
    },
    {
      "cell_type": "markdown",
      "metadata": {
        "id": "FK1_5yYL9LsS"
      },
      "source": [
        "## **Generate Data**"
      ]
    },
    {
      "cell_type": "code",
      "metadata": {
        "colab": {
          "base_uri": "https://localhost:8080/"
        },
        "id": "GsuhFWhf2wUY",
        "outputId": "0e20da0b-085c-483c-a3f3-3d5fe449e5ab"
      },
      "source": [
        "import numpy as np\n",
        "import pandas as pd\n",
        "import matplotlib.pyplot as plt\n",
        "\n",
        "SEED = 1234\n",
        "NUM_SAMPLES = 50\n",
        "\n",
        "# Set seend for reproducibility\n",
        "np.random.seed(SEED)\n",
        "\n",
        "# Generate synthetic data\n",
        "def generate_data(num_samples):\n",
        "  \"\"\"Generate dummy data for linear regression.\"\"\"\n",
        "  X = np.array(range(num_samples))\n",
        "  noise = np.random.uniform(-10, 20, size=num_samples)\n",
        "  y = 3.5*X + noise\n",
        "  return X, y\n",
        "\n",
        "# Generate randome(linear data)\n",
        "X,y = generate_data(NUM_SAMPLES)\n",
        "data = np.vstack((X,y)).T\n",
        "print(data[:5])"
      ],
      "execution_count": 1,
      "outputs": [
        {
          "output_type": "stream",
          "text": [
            "[[ 0.         -4.25441649]\n",
            " [ 1.         12.16326313]\n",
            " [ 2.         10.13183217]\n",
            " [ 3.         24.06075751]\n",
            " [ 4.         27.39927424]]\n"
          ],
          "name": "stdout"
        }
      ]
    },
    {
      "cell_type": "code",
      "metadata": {
        "colab": {
          "base_uri": "https://localhost:8080/",
          "height": 205
        },
        "id": "5ks1kBaLAvso",
        "outputId": "85a299ff-6f37-411b-b43a-fa1c4b554e62"
      },
      "source": [
        "# Load into a Pandas DataFrame\n",
        "df = pd.DataFrame(data, columns=['X', 'y'])\n",
        "X = df[['X']].values\n",
        "y = df[['y']].values\n",
        "df.head()"
      ],
      "execution_count": 2,
      "outputs": [
        {
          "output_type": "execute_result",
          "data": {
            "text/html": [
              "<div>\n",
              "<style scoped>\n",
              "    .dataframe tbody tr th:only-of-type {\n",
              "        vertical-align: middle;\n",
              "    }\n",
              "\n",
              "    .dataframe tbody tr th {\n",
              "        vertical-align: top;\n",
              "    }\n",
              "\n",
              "    .dataframe thead th {\n",
              "        text-align: right;\n",
              "    }\n",
              "</style>\n",
              "<table border=\"1\" class=\"dataframe\">\n",
              "  <thead>\n",
              "    <tr style=\"text-align: right;\">\n",
              "      <th></th>\n",
              "      <th>X</th>\n",
              "      <th>y</th>\n",
              "    </tr>\n",
              "  </thead>\n",
              "  <tbody>\n",
              "    <tr>\n",
              "      <th>0</th>\n",
              "      <td>0.0</td>\n",
              "      <td>-4.254416</td>\n",
              "    </tr>\n",
              "    <tr>\n",
              "      <th>1</th>\n",
              "      <td>1.0</td>\n",
              "      <td>12.163263</td>\n",
              "    </tr>\n",
              "    <tr>\n",
              "      <th>2</th>\n",
              "      <td>2.0</td>\n",
              "      <td>10.131832</td>\n",
              "    </tr>\n",
              "    <tr>\n",
              "      <th>3</th>\n",
              "      <td>3.0</td>\n",
              "      <td>24.060758</td>\n",
              "    </tr>\n",
              "    <tr>\n",
              "      <th>4</th>\n",
              "      <td>4.0</td>\n",
              "      <td>27.399274</td>\n",
              "    </tr>\n",
              "  </tbody>\n",
              "</table>\n",
              "</div>"
            ],
            "text/plain": [
              "     X          y\n",
              "0  0.0  -4.254416\n",
              "1  1.0  12.163263\n",
              "2  2.0  10.131832\n",
              "3  3.0  24.060758\n",
              "4  4.0  27.399274"
            ]
          },
          "metadata": {
            "tags": []
          },
          "execution_count": 2
        }
      ]
    },
    {
      "cell_type": "code",
      "metadata": {
        "colab": {
          "base_uri": "https://localhost:8080/",
          "height": 281
        },
        "id": "8n1mrCjkB-ZQ",
        "outputId": "d117da3d-5b7f-4e9d-8b14-cb01b37154a7"
      },
      "source": [
        "# Scatter Plot\n",
        "plt.title(\"Generate data\")\n",
        "plt.scatter(x=df['X'], y=df['y'])\n",
        "plt.show()"
      ],
      "execution_count": 3,
      "outputs": [
        {
          "output_type": "display_data",
          "data": {
            "image/png": "[encoded data removed]",
            "text/plain": [
              "<Figure size 432x288 with 1 Axes>"
            ]
          },
          "metadata": {
            "tags": [],
            "needs_background": "light"
          }
        }
      ]
    },
    {
      "cell_type": "markdown",
      "metadata": {
        "id": "fvGCLsupC7xs"
      },
      "source": [
        "## **Numpy**\n",
        "Data is already prepared. Going to first implement linear regression using just Numpy.  "
      ]
    },
    {
      "cell_type": "markdown",
      "metadata": {
        "id": "JJZF4O79DQcr"
      },
      "source": [
        "## **Split Data**\n",
        "Split dataset into three sets: train, validation and test data splits.\n",
        "\n",
        "\n",
        "*   train: used to train model.\n",
        "*   val: used to validate our model's performance during training.\n",
        "*   test: used to do an evaluation of our fully trained model.\n",
        "\n",
        "\n",
        "\n"
      ]
    },
    {
      "cell_type": "code",
      "metadata": {
        "colab": {
          "base_uri": "https://localhost:8080/"
        },
        "id": "0-6QN-1KC7ad",
        "outputId": "1e49bf8c-7be1-47da-bcb0-e8aa77167cff"
      },
      "source": [
        "TRAIN_SIZE = 0.7\n",
        "VAL_SIZE = 0.15\n",
        "TEST_SIZE = 0.15\n",
        "\n",
        "# Shuffle data\n",
        "indices = list(range(NUM_SAMPLES))\n",
        "np.random.shuffle(indices)\n",
        "X = X[indices]\n",
        "y = y[indices]\n",
        "\n",
        "# Split indices\n",
        "train_start = 0\n",
        "train_end = int(TRAIN_SIZE * NUM_SAMPLES)\n",
        "val_start = train_end\n",
        "val_end = int((TRAIN_SIZE + VAL_SIZE)* NUM_SAMPLES)\n",
        "test_start = val_end\n",
        "\n",
        "# Split Data\n",
        "X_train = X[train_start:train_end]\n",
        "y_train = y[train_start:train_end]\n",
        "X_val = X[val_start:val_end]\n",
        "y_val = y[val_start:val_end]\n",
        "X_test = X[test_start:]\n",
        "y_test = y[test_start:]\n",
        "\n",
        "print(f\"X_train:{X_train.shape}, y_train:{y_train.shape}\")\n",
        "print(f\"X_val:{X_val.shape}, y_val:{y_val.shape}\")\n",
        "print(f\"X_test:{X_test.shape}, y_test:{y_test.shape}\")"
      ],
      "execution_count": 4,
      "outputs": [
        {
          "output_type": "stream",
          "text": [
            "X_train:(35, 1), y_train:(35, 1)\n",
            "X_val:(7, 1), y_val:(7, 1)\n",
            "X_test:(8, 1), y_test:(8, 1)\n"
          ],
          "name": "stdout"
        }
      ]
    },
    {
      "cell_type": "markdown",
      "metadata": {
        "id": "0pspT8CYMUy-"
      },
      "source": [
        "## **Standardize data**"
      ]
    },
    {
      "cell_type": "code",
      "metadata": {
        "id": "Yrtl2ZKtMPlo",
        "colab": {
          "base_uri": "https://localhost:8080/"
        },
        "outputId": "419b4441-6de1-4b32-ce42-0dbe52835a7b"
      },
      "source": [
        "def standardize_data(data, mean, std):\n",
        "  return (data-mean)/std\n",
        "\n",
        "# Determine means and stds\n",
        "X_mean = np.mean(X_train)\n",
        "X_std = np.std(X_train)\n",
        "y_mean = np.mean(y_train)\n",
        "y_std = np.std(y_train)\n",
        "\n",
        "print(\"X_mean:\", X_mean)\n",
        "print(\"X_std:\", X_std)\n",
        "print(\"y_mean:\", y_mean)\n",
        "print(\"y_std:\", y_std)"
      ],
      "execution_count": 5,
      "outputs": [
        {
          "output_type": "stream",
          "text": [
            "X_mean: 27.0\n",
            "X_std: 14.863185584331701\n",
            "y_mean: 100.23554348153554\n",
            "y_std: 51.625594778672756\n"
          ],
          "name": "stdout"
        }
      ]
    },
    {
      "cell_type": "markdown",
      "metadata": {
        "id": "DQKCT-9sPeNl"
      },
      "source": [
        "Need to treat the validation and test sets as if they were hidden datasets. So only use the train set to determine the mean and std to avoid biasing our training process."
      ]
    },
    {
      "cell_type": "code",
      "metadata": {
        "id": "UinCIZ2ZP8JR",
        "colab": {
          "base_uri": "https://localhost:8080/"
        },
        "outputId": "3a6ee202-29e9-4d77-f3dc-e04c7dbaa854"
      },
      "source": [
        "X_train = standardize_data(X_train, X_mean, X_std)\n",
        "y_train = standardize_data(y_train, y_mean, y_std)\n",
        "X_val = standardize_data(X_val, X_mean, X_std)\n",
        "y_val = standardize_data(y_val, y_mean, y_std)\n",
        "X_test = standardize_data(X_test, X_mean, X_std)\n",
        "y_test = standardize_data(y_test, y_mean, y_std)\n",
        "\n",
        "# Check (mean should be about 0 and std shoulb be about 1)\n",
        "print(\"X_test:\", X_test)\n",
        "print(f\"mean:{np.mean(X_test, axis=0)[0]:.1f}, std:{np.std(X_test, axis=0)[0]:.1f}\")\n",
        "print(f\"mean:{np.mean(y_test, axis=0)[0]:.1f}, std:{np.std(y_test, axis=0)[0]:.1f}\")\n"
      ],
      "execution_count": 6,
      "outputs": [
        {
          "output_type": "stream",
          "text": [
            "X_test: [[-1.14376557]\n",
            " [ 0.4709623 ]\n",
            " [-0.80736393]\n",
            " [-1.48016721]\n",
            " [-1.61472787]\n",
            " [ 0.60552295]\n",
            " [-1.34560656]\n",
            " [ 0.74008361]]\n",
            "mean:-0.6, std:0.9\n",
            "mean:-0.6, std:0.9\n"
          ],
          "name": "stdout"
        }
      ]
    },
    {
      "cell_type": "markdown",
      "metadata": {
        "id": "Pj-ttz63PLIA"
      },
      "source": [
        "## **Weight**\n",
        "The goal is to learn a linear model y that models y given X usingweights W and bias b -> y = XW+b"
      ]
    },
    {
      "cell_type": "markdown",
      "metadata": {
        "id": "Rw3V8iqiQMXE"
      },
      "source": [
        "step 1: Randomly initialize the model's weights W"
      ]
    },
    {
      "cell_type": "code",
      "metadata": {
        "id": "LlmqLef9QTPf"
      },
      "source": [
        "INPUT_DIM = X_train.shape[1] # X is 1-dimenstional\n",
        "OUTPUT_DIM = y_train.shape[1] # y is 1-dimensional"
      ],
      "execution_count": 7,
      "outputs": []
    },
    {
      "cell_type": "code",
      "metadata": {
        "colab": {
          "base_uri": "https://localhost:8080/"
        },
        "id": "BGauZyrLQyCi",
        "outputId": "1e35dd7f-8398-4a1f-9340-e61e769b10a4"
      },
      "source": [
        "# Initialize random weights\n",
        "W = 0.01 * np.random.randn(INPUT_DIM, OUTPUT_DIM)\n",
        "b = np.zeros((1,1))\n",
        "print(f\"W:{W.shape}\")\n",
        "print(f\"b:{b.shape}\")"
      ],
      "execution_count": 8,
      "outputs": [
        {
          "output_type": "stream",
          "text": [
            "W:(1, 1)\n",
            "b:(1, 1)\n"
          ],
          "name": "stdout"
        }
      ]
    },
    {
      "cell_type": "markdown",
      "metadata": {
        "id": "hr0m_UfMRgeB"
      },
      "source": [
        "## **Model**"
      ]
    },
    {
      "cell_type": "markdown",
      "metadata": {
        "id": "ok2vgRElRlN_"
      },
      "source": [
        "step 2: Feed inputs X into the model to receive the predictions y"
      ]
    },
    {
      "cell_type": "code",
      "metadata": {
        "colab": {
          "base_uri": "https://localhost:8080/"
        },
        "id": "PJLRWOxKRkWf",
        "outputId": "9d954d0d-281d-4d4a-b85c-68627cc2badf"
      },
      "source": [
        "# Forward pass[Nx1]*[1x1] = [Nx1]\n",
        "y_pred = np.dot(X_train, W) + b\n",
        "print(f\"y_pred:{y_pred.shape}\")"
      ],
      "execution_count": 9,
      "outputs": [
        {
          "output_type": "stream",
          "text": [
            "y_pred:(35, 1)\n"
          ],
          "name": "stdout"
        }
      ]
    },
    {
      "cell_type": "markdown",
      "metadata": {
        "id": "d2kp3QKtSdeg"
      },
      "source": [
        "## **Loss**\n",
        "step 3: Compare the predictions y' with the actual target values y using the objective(cost) function to determine the loss J. A common objective function for linear regression is mean squared error(MSE). This function calculates the difference between the prediction and target values and squares it."
      ]
    },
    {
      "cell_type": "code",
      "metadata": {
        "colab": {
          "base_uri": "https://localhost:8080/"
        },
        "id": "gWYL9ZYBSct7",
        "outputId": "223bfe1a-2075-4104-c72e-f89dc2b92a93"
      },
      "source": [
        "# Loss\n",
        "N = len(y_train)\n",
        "loss = (1/N) * np.sum((y_train - y_pred)**2)\n",
        "print(f\"loss:{loss:.2f}\")"
      ],
      "execution_count": 10,
      "outputs": [
        {
          "output_type": "stream",
          "text": [
            "loss:0.99\n"
          ],
          "name": "stdout"
        }
      ]
    },
    {
      "cell_type": "markdown",
      "metadata": {
        "id": "2jhTmadCU43q"
      },
      "source": [
        "## **Gradients**\n",
        "step 4: Calculate the gradient of loss J w.r.t to the model weights."
      ]
    },
    {
      "cell_type": "code",
      "metadata": {
        "id": "m8U_A9VMUvIF"
      },
      "source": [
        "# Backpropagation\n",
        "dW = -(2/N) * np.sum((y_train - y_pred) * X_train)\n",
        "db = -(2/N) * np.sum((y_train - y_pred) * 1)"
      ],
      "execution_count": 11,
      "outputs": []
    },
    {
      "cell_type": "markdown",
      "metadata": {
        "id": "3-0DYK94Zc2q"
      },
      "source": [
        "Gradient is the derivative, or the rate of change of a function. It's a vector that points in the direction of greatest increase of a function. We want to minimize the loss function, so we need to subtract the gradient from W and b. "
      ]
    },
    {
      "cell_type": "markdown",
      "metadata": {
        "id": "iXOu06noXTiP"
      },
      "source": [
        "## **Update weights**\n",
        "step 5: Update the weights W using a small learing rate a.\n"
      ]
    },
    {
      "cell_type": "code",
      "metadata": {
        "id": "2FKWBnnaXS9U"
      },
      "source": [
        "LEARNING_RATE = 1e-1\n",
        "# Update weights\n",
        "W += -LEARNING_RATE*dW\n",
        "b += -LEARNING_RATE*db"
      ],
      "execution_count": 12,
      "outputs": []
    },
    {
      "cell_type": "markdown",
      "metadata": {
        "id": "gG6I80MrYJRU"
      },
      "source": [
        "## **Training**\n",
        "step 6: Repeat steps 2 -> 5 to minimize the loss and train the model"
      ]
    },
    {
      "cell_type": "code",
      "metadata": {
        "colab": {
          "base_uri": "https://localhost:8080/"
        },
        "id": "uPm5W2C7YIzv",
        "outputId": "ab467d42-f882-4382-ab2f-23e28b3b0286"
      },
      "source": [
        "NUM_EPOCHS = 100\n",
        "# Randomly initialize weight W and bias b\n",
        "W = 0.01*np.random.randn(INPUT_DIM,OUTPUT_DIM)\n",
        "b = np.zeros((1,1))\n",
        "\n",
        "# Training Loop\n",
        "for epoch_num in range(NUM_EPOCHS):\n",
        "  # models\n",
        "  y_pred = np.dot(X_train, W) + b\n",
        "  \n",
        "  # Loss function\n",
        "  loss = (1/len(y_train)) * np.sum((y_train - y_pred)**2)\n",
        "\n",
        "  # Show progress\n",
        "  if epoch_num%10 == 0:\n",
        "    print(f\"Epoch: {epoch_num}, loss:{loss:.3f}\")\n",
        "\n",
        "  # gradients\n",
        "  dW = -(2/N) * np.sum((y_train - y_pred) * X_train)\n",
        "  db = -(2/N) * np.sum((y_train - y_pred) * 1)\n",
        "\n",
        "  # Update weight and bias\n",
        "  W += -LEARNING_RATE * dW\n",
        "  b += -LEARNING_RATE * db\n",
        "\n"
      ],
      "execution_count": 13,
      "outputs": [
        {
          "output_type": "stream",
          "text": [
            "Epoch: 0, loss:0.990\n",
            "Epoch: 10, loss:0.039\n",
            "Epoch: 20, loss:0.028\n",
            "Epoch: 30, loss:0.028\n",
            "Epoch: 40, loss:0.028\n",
            "Epoch: 50, loss:0.028\n",
            "Epoch: 60, loss:0.028\n",
            "Epoch: 70, loss:0.028\n",
            "Epoch: 80, loss:0.028\n",
            "Epoch: 90, loss:0.028\n"
          ],
          "name": "stdout"
        }
      ]
    },
    {
      "cell_type": "markdown",
      "metadata": {
        "id": "ot9ShDWGf2Cd"
      },
      "source": [
        "## **Evaluation**\n",
        "Now to see how well the trained model will perform on test data split. This will be our best measure on how well the model would perform on the real world, given that our dataset's distribution is close to unseen data. "
      ]
    },
    {
      "cell_type": "code",
      "metadata": {
        "colab": {
          "base_uri": "https://localhost:8080/"
        },
        "id": "S_NZs8UtgMtr",
        "outputId": "628a3728-47ec-4f3a-bd78-f56d2eb87a16"
      },
      "source": [
        "# predictions\n",
        "pred_train = W * X_train + b\n",
        "pred_test = W * X_test + b\n",
        "\n",
        "# Train and test MSE\n",
        "train_mse = np.mean((y_train - pred_train)**2)\n",
        "test_mse = np.mean((y_test - pred_test)**2)\n",
        "print(f\"train_MSE:{train_mse:.2f}, test_MSE:{test_mse:.2f}\")"
      ],
      "execution_count": 14,
      "outputs": [
        {
          "output_type": "stream",
          "text": [
            "train_MSE:0.03, test_MSE:0.01\n"
          ],
          "name": "stdout"
        }
      ]
    },
    {
      "cell_type": "code",
      "metadata": {
        "colab": {
          "base_uri": "https://localhost:8080/",
          "height": 353
        },
        "id": "Mn8sLVIYh11r",
        "outputId": "37aff596-b2ae-4d25-b314-6b471bdadd01"
      },
      "source": [
        "# Figure size\n",
        "plt.figure(figsize=(15,5))\n",
        "\n",
        "# Plot train data\n",
        "plt.subplot(1, 2, 1)\n",
        "plt.title(\"Train\")\n",
        "plt.scatter(X_train, y_train, label=\"y_train\")\n",
        "plt.plot(X_train, pred_train, color='red', linewidth=1, linestyle='-' , label='model')\n",
        "plt.legend(loc='lower right')\n",
        "\n",
        "# Plot test data\n",
        "plt.subplot(1, 2, 2)\n",
        "plt.title(\"Test\")\n",
        "plt.scatter(X_test, y_test, label=\"y_test\")\n",
        "plt.plot(X_test, pred_test, color='red', linewidth=1, linestyle='-' , label='model')\n",
        "plt.legend(loc='lower right')"
      ],
      "execution_count": 15,
      "outputs": [
        {
          "output_type": "execute_result",
          "data": {
            "text/plain": [
              "<matplotlib.legend.Legend at 0x7fa3b8afa750>"
            ]
          },
          "metadata": {
            "tags": []
          },
          "execution_count": 15
        },
        {
          "output_type": "display_data",
          "data": {
            "image/png": "[encoded data removed]",
            "text/plain": [
              "<Figure size 1080x360 with 2 Axes>"
            ]
          },
          "metadata": {
            "tags": [],
            "needs_background": "light"
          }
        }
      ]
    },
    {
      "cell_type": "markdown",
      "metadata": {
        "id": "MOsRDXfdl8z1"
      },
      "source": [
        "## **Interpretability**\n",
        "Since the input and output are standardized, weights were fit to those standardized values. So need to unstandardize weightt. Then be able to compare it to the true weight(3.5)."
      ]
    },
    {
      "cell_type": "code",
      "metadata": {
        "colab": {
          "base_uri": "https://localhost:8080/"
        },
        "id": "YPDZ_0drm3GG",
        "outputId": "30f2ec63-61ca-4d5b-dee5-17d0ded20832"
      },
      "source": [
        "# Unscaled weights\n",
        "W_unscaled = W * (y_std/X_std)\n",
        "b_unscaled = b * y_std + y_mean - W_unscaled * X_mean\n",
        "print(\"[actual] y = 3.5x + noise\")\n",
        "print(f\"[model] y_hat = {W_unscaled[0][0]:.1f}X + {b_unscaled[0][0]:.1f}\")"
      ],
      "execution_count": 16,
      "outputs": [
        {
          "output_type": "stream",
          "text": [
            "[actual] y = 3.5x + noise\n",
            "[model] y_hat = 3.4X + 7.8\n"
          ],
          "name": "stdout"
        }
      ]
    },
    {
      "cell_type": "markdown",
      "metadata": {
        "id": "KAVt6ddSp2XH"
      },
      "source": [
        "## **PyTorch**\n",
        "Implement linear regression with PyTorch."
      ]
    },
    {
      "cell_type": "code",
      "metadata": {
        "colab": {
          "base_uri": "https://localhost:8080/"
        },
        "id": "QkLLO3v9qMiQ",
        "outputId": "997a0569-f7c5-4c55-9c2c-578923293eea"
      },
      "source": [
        "import torch\n",
        "# set seed for reproducibility\n",
        "torch.manual_seed(SEED)"
      ],
      "execution_count": 17,
      "outputs": [
        {
          "output_type": "execute_result",
          "data": {
            "text/plain": [
              "<torch._C.Generator at 0x7fa360460ab0>"
            ]
          },
          "metadata": {
            "tags": []
          },
          "execution_count": 17
        }
      ]
    },
    {
      "cell_type": "markdown",
      "metadata": {
        "id": "rKWY0QvBq9K8"
      },
      "source": [
        "## **Split Data**\n",
        "Instead of splitting data using indices, let's use scikit-learn's built in train_test_split function."
      ]
    },
    {
      "cell_type": "code",
      "metadata": {
        "colab": {
          "base_uri": "https://localhost:8080/"
        },
        "id": "eJxtYXLEq8OK",
        "outputId": "7eb6d222-b6bd-465f-81db-324a1dc990b0"
      },
      "source": [
        "from sklearn.model_selection import train_test_split\n",
        "TRAIN_SIZE = 0.7\n",
        "VAL_SIZE = 0.15\n",
        "TEST_SIZE = 0.15\n",
        "\n",
        "# Split (train)\n",
        "X_train, X_, y_train, y_ = train_test_split(X, y, train_size=TRAIN_SIZE)\n",
        "print(f\"train: {len(X_train)}({len(X_train)/len(X)})\")\n",
        "print(f\"train: {len(X_)}({len(X_)/len(X)})\")"
      ],
      "execution_count": 18,
      "outputs": [
        {
          "output_type": "stream",
          "text": [
            "train: 35(0.7)\n",
            "train: 15(0.3)\n"
          ],
          "name": "stdout"
        }
      ]
    },
    {
      "cell_type": "code",
      "metadata": {
        "colab": {
          "base_uri": "https://localhost:8080/"
        },
        "id": "5pb8vy_TtYzy",
        "outputId": "b579655c-fb4b-4472-bdd7-da0a17ef2631"
      },
      "source": [
        "X_val, X_test, y_val, y_test = train_test_split(X_, y_, train_size=0.5)\n",
        "print(f\"train: {len(X_train)}({len(X_train)/len(X)})\")\n",
        "print(f\"val: {len(X_val)}({len(X_val)/len(X)})\")\n",
        "print(f\"test: {len(X_test)}({len(X_test)/len(X)})\")"
      ],
      "execution_count": 19,
      "outputs": [
        {
          "output_type": "stream",
          "text": [
            "train: 35(0.7)\n",
            "val: 7(0.14)\n",
            "test: 8(0.16)\n"
          ],
          "name": "stdout"
        }
      ]
    },
    {
      "cell_type": "markdown",
      "metadata": {
        "id": "qwV4nfZfQ-t7"
      },
      "source": [
        "## **Standardize data**\n",
        "use scikit-learn's StandarScaler to standardize our data."
      ]
    },
    {
      "cell_type": "code",
      "metadata": {
        "id": "XJha7hHJRXdX"
      },
      "source": [
        "from sklearn.preprocessing import StandardScaler\n",
        "# Standardize the data (mean=0, std=1) using training data\n",
        "X_scaler = StandardScaler().fit(X_train)\n",
        "y_scaler = StandardScaler().fit(y_train)\n",
        "\n",
        "X_train = X_scaler.transform(X_train)\n",
        "y_train = y_scaler.transform(y_train)\n",
        "X_val  = X_scaler.transform(X_val)\n",
        "y_val  = y_scaler.transform(y_val)\n",
        "X_test = X_scaler.transform(X_test)\n",
        "y_test = y_scaler.transform(y_test)"
      ],
      "execution_count": 20,
      "outputs": []
    },
    {
      "cell_type": "code",
      "metadata": {
        "colab": {
          "base_uri": "https://localhost:8080/"
        },
        "id": "OH0VbCbpfqur",
        "outputId": "758e9ce4-c454-4d43-a6df-f75022edbbfa"
      },
      "source": [
        "# Check (means should be 0 and std should be 1)\n",
        "print(f\"mean: {np.mean(X_test, axis=0)[0]:.1f}, std: {np.std(X_test, axis=0)[0]:.1f}\")\n",
        "print(f\"mean: {np.mean(y_test, axis=0)[0]:.1f}, std: {np.std(y_test, axis=0)[0]:.1f}\")"
      ],
      "execution_count": 21,
      "outputs": [
        {
          "output_type": "stream",
          "text": [
            "mean: -0.5, std: 0.8\n",
            "mean: -0.5, std: 0.8\n"
          ],
          "name": "stdout"
        }
      ]
    },
    {
      "cell_type": "markdown",
      "metadata": {
        "id": "8RSOpKVchAXa"
      },
      "source": [
        "## **Weight**\n",
        "Use PyTorch's Linear layers in our MLP implementation. These layers will act as out weights(and biases)."
      ]
    },
    {
      "cell_type": "code",
      "metadata": {
        "colab": {
          "base_uri": "https://localhost:8080/"
        },
        "id": "07gkEIxXhAGS",
        "outputId": "78fcbaa2-54cb-40bc-8d78-1688d3bb4239"
      },
      "source": [
        "from torch import nn\n",
        "# Inputs\n",
        "N = 3 # num samples\n",
        "x = torch.rand(N, INPUT_DIM)\n",
        "print(x.shape)\n",
        "print(x.numpy())"
      ],
      "execution_count": 22,
      "outputs": [
        {
          "output_type": "stream",
          "text": [
            "torch.Size([3, 1])\n",
            "[[0.02897924]\n",
            " [0.40189856]\n",
            " [0.25984418]]\n"
          ],
          "name": "stdout"
        }
      ]
    },
    {
      "cell_type": "code",
      "metadata": {
        "colab": {
          "base_uri": "https://localhost:8080/"
        },
        "id": "E5msPRSeieT2",
        "outputId": "1848ea17-cc10-42a7-c253-1fe7cf60ae1a"
      },
      "source": [
        "# Weights\n",
        "m = nn.Linear(INPUT_DIM, OUTPUT_DIM)\n",
        "print(m)\n",
        "print(f\"weight: ({m.weight.shape}):{m.weight[0][0]}\")\n",
        "print(f\"bias: ({m.bias.shape}):{m.bias[0]}\")"
      ],
      "execution_count": 23,
      "outputs": [
        {
          "output_type": "stream",
          "text": [
            "Linear(in_features=1, out_features=1, bias=True)\n",
            "weight: (torch.Size([1, 1])):-0.2667173147201538\n",
            "bias: (torch.Size([1])):-0.8833985328674316\n"
          ],
          "name": "stdout"
        }
      ]
    },
    {
      "cell_type": "code",
      "metadata": {
        "colab": {
          "base_uri": "https://localhost:8080/"
        },
        "id": "Tf-avoclkWMG",
        "outputId": "6cced692-4cdf-46f7-e442-c8fa945438c2"
      },
      "source": [
        "# Forward pass\n",
        "z = m(x)\n",
        "print(z.shape)\n",
        "print(z.detach().numpy())"
      ],
      "execution_count": 24,
      "outputs": [
        {
          "output_type": "stream",
          "text": [
            "torch.Size([3, 1])\n",
            "[[-0.8911278]\n",
            " [-0.9905918]\n",
            " [-0.9527035]]\n"
          ],
          "name": "stdout"
        }
      ]
    },
    {
      "cell_type": "markdown",
      "metadata": {
        "id": "RX86_wHBOhmL"
      },
      "source": [
        "## **Model**\n",
        "y = XW + b"
      ]
    },
    {
      "cell_type": "code",
      "metadata": {
        "id": "zJabVqPlOmEy"
      },
      "source": [
        "class LinearRegression(nn.Module):\n",
        "  def __init__(self, input_dim, output_dim):\n",
        "    super(LinearRegression, self).__init__()\n",
        "    self.fc1 = nn.Linear(input_dim, output_dim)\n",
        "\n",
        "  def forward(self, x_in):\n",
        "    y_pre = self.fc1(x_in)\n",
        "    return y_pred\n"
      ],
      "execution_count": 26,
      "outputs": []
    },
    {
      "cell_type": "code",
      "metadata": {
        "colab": {
          "base_uri": "https://localhost:8080/"
        },
        "id": "X6YbQymjRZyT",
        "outputId": "97f16f4b-5c14-41f3-f795-6e761297fb86"
      },
      "source": [
        "#Initialize Model\n",
        "model = LinearRegression(INPUT_DIM, OUTPUT_DIM)\n",
        "print(model.named_parameters)"
      ],
      "execution_count": 27,
      "outputs": [
        {
          "output_type": "stream",
          "text": [
            "<bound method Module.named_parameters of LinearRegression(\n",
            "  (fc1): Linear(in_features=1, out_features=1, bias=True)\n",
            ")>\n"
          ],
          "name": "stdout"
        }
      ]
    },
    {
      "cell_type": "markdown",
      "metadata": {
        "id": "chMYjpw1R2U0"
      },
      "source": [
        "## **Loss**\n",
        "Use PyTorch's loss functions, specifically MSELoss\n"
      ]
    },
    {
      "cell_type": "code",
      "metadata": {
        "colab": {
          "base_uri": "https://localhost:8080/"
        },
        "id": "ErJLgmlpR0Ii",
        "outputId": "9eea193a-f37c-4cae-94da-31117d7e1c5c"
      },
      "source": [
        "loss_fn = nn.MSELoss()\n",
        "y_pred = torch.Tensor([0,0,1,1])\n",
        "y_true = torch.Tensor([1,1,1,0])\n",
        "print(y_pred)\n",
        "print(y_true)\n",
        "loss = loss_fn(y_pred, y_true)\n",
        "print('loss: ', loss.numpy())"
      ],
      "execution_count": 37,
      "outputs": [
        {
          "output_type": "stream",
          "text": [
            "tensor([0., 0., 1., 1.])\n",
            "tensor([1., 1., 1., 0.])\n",
            "loss:  0.75\n"
          ],
          "name": "stdout"
        }
      ]
    },
    {
      "cell_type": "markdown",
      "metadata": {
        "id": "d5W3clXtV276"
      },
      "source": [
        "## **Optimizer**\n",
        "When implemented linear regression with just Numpy, we used batch gradient descent to update weights. But here are actually many different gradient descent optimization algorithms to choose from and it depends on the situation. However, the ADAM optimizer has become a standard algorithm for most cases."
      ]
    }
  ]
}