{
  "nbformat": 4,
  "nbformat_minor": 0,
  "metadata": {
    "colab": {
      "name": "Linear Regression.ipynb",
      "provenance": [],
      "collapsed_sections": [],
      "mount_file_id": "https://github.com/LZY199/PracticalAI/blob/main/Linear_Regression.ipynb",
      "authorship_tag": "ABX9TyNvwELsSjUeNXMkde5n5tJf",
      "include_colab_link": true
    },
    "kernelspec": {
      "name": "python3",
      "display_name": "Python 3"
    },
    "language_info": {
      "name": "python"
    }
  },
  "cells": [
    {
      "cell_type": "markdown",
      "metadata": {
        "id": "view-in-github",
        "colab_type": "text"
      },
      "source": [
        "<a href=\"https://colab.research.google.com/github/LZY199/PracticalAI/blob/main/Linear_Regression.ipynb\" target=\"_parent\"><img src=\"https://colab.research.google.com/assets/colab-badge.svg\" alt=\"Open In Colab\"/></a>"
      ]
    },
    {
      "cell_type": "markdown",
      "metadata": {
        "id": "FK1_5yYL9LsS"
      },
      "source": [
        "## **Generate Data**"
      ]
    },
    {
      "cell_type": "code",
      "metadata": {
        "colab": {
          "base_uri": "https://localhost:8080/"
        },
        "id": "GsuhFWhf2wUY",
        "outputId": "eea2f825-e61d-4e0a-a60b-76052cbd47ad"
      },
      "source": [
        "import numpy as np\n",
        "import pandas as pd\n",
        "import matplotlib.pyplot as plt\n",
        "\n",
        "SEED = 1234\n",
        "NUM_SAMPLES = 50\n",
        "\n",
        "# Set seend for reproducibility\n",
        "np.random.seed(SEED)\n",
        "\n",
        "# Generate synthetic data\n",
        "def generate_data(num_samples):\n",
        "  \"\"\"Generate dummy data for linear regression.\"\"\"\n",
        "  X = np.array(range(num_samples))\n",
        "  noise = np.random.uniform(-10, 20, size=num_samples)\n",
        "  y = 3.5*X + noise\n",
        "  return X, y\n",
        "\n",
        "# Generate randome(linear data)\n",
        "X,y = generate_data(NUM_SAMPLES)\n",
        "data = np.vstack((X,y)).T\n",
        "print(data[:5])"
      ],
      "execution_count": 510,
      "outputs": [
        {
          "output_type": "stream",
          "text": [
            "[[ 0.         -4.25441649]\n",
            " [ 1.         12.16326313]\n",
            " [ 2.         10.13183217]\n",
            " [ 3.         24.06075751]\n",
            " [ 4.         27.39927424]]\n"
          ],
          "name": "stdout"
        }
      ]
    },
    {
      "cell_type": "code",
      "metadata": {
        "colab": {
          "base_uri": "https://localhost:8080/",
          "height": 205
        },
        "id": "5ks1kBaLAvso",
        "outputId": "ff588c6e-69bd-45d7-9e7d-6316a59a9b5b"
      },
      "source": [
        "# Load into a Pandas DataFrame\n",
        "df = pd.DataFrame(data, columns=['X', 'y'])\n",
        "X = df[['X']].values\n",
        "y = df[['y']].values\n",
        "df.head()"
      ],
      "execution_count": 511,
      "outputs": [
        {
          "output_type": "execute_result",
          "data": {
            "text/html": [
              "<div>\n",
              "<style scoped>\n",
              "    .dataframe tbody tr th:only-of-type {\n",
              "        vertical-align: middle;\n",
              "    }\n",
              "\n",
              "    .dataframe tbody tr th {\n",
              "        vertical-align: top;\n",
              "    }\n",
              "\n",
              "    .dataframe thead th {\n",
              "        text-align: right;\n",
              "    }\n",
              "</style>\n",
              "<table border=\"1\" class=\"dataframe\">\n",
              "  <thead>\n",
              "    <tr style=\"text-align: right;\">\n",
              "      <th></th>\n",
              "      <th>X</th>\n",
              "      <th>y</th>\n",
              "    </tr>\n",
              "  </thead>\n",
              "  <tbody>\n",
              "    <tr>\n",
              "      <th>0</th>\n",
              "      <td>0.0</td>\n",
              "      <td>-4.254416</td>\n",
              "    </tr>\n",
              "    <tr>\n",
              "      <th>1</th>\n",
              "      <td>1.0</td>\n",
              "      <td>12.163263</td>\n",
              "    </tr>\n",
              "    <tr>\n",
              "      <th>2</th>\n",
              "      <td>2.0</td>\n",
              "      <td>10.131832</td>\n",
              "    </tr>\n",
              "    <tr>\n",
              "      <th>3</th>\n",
              "      <td>3.0</td>\n",
              "      <td>24.060758</td>\n",
              "    </tr>\n",
              "    <tr>\n",
              "      <th>4</th>\n",
              "      <td>4.0</td>\n",
              "      <td>27.399274</td>\n",
              "    </tr>\n",
              "  </tbody>\n",
              "</table>\n",
              "</div>"
            ],
            "text/plain": [
              "     X          y\n",
              "0  0.0  -4.254416\n",
              "1  1.0  12.163263\n",
              "2  2.0  10.131832\n",
              "3  3.0  24.060758\n",
              "4  4.0  27.399274"
            ]
          },
          "metadata": {
            "tags": []
          },
          "execution_count": 511
        }
      ]
    },
    {
      "cell_type": "code",
      "metadata": {
        "colab": {
          "base_uri": "https://localhost:8080/",
          "height": 281
        },
        "id": "8n1mrCjkB-ZQ",
        "outputId": "690359b3-eb17-4b41-9a78-52e498b5de90"
      },
      "source": [
        "# Scatter Plot\n",
        "plt.title(\"Generate data\")\n",
        "plt.scatter(x=df['X'], y=df['y'])\n",
        "plt.show()"
      ],
      "execution_count": 512,
      "outputs": [
        {
          "output_type": "display_data",
          "data": {
            "image/png": "[encoded data removed]",
            "text/plain": [
              "<Figure size 432x288 with 1 Axes>"
            ]
          },
          "metadata": {
            "tags": [],
            "needs_background": "light"
          }
        }
      ]
    },
    {
      "cell_type": "markdown",
      "metadata": {
        "id": "fvGCLsupC7xs"
      },
      "source": [
        "## **Numpy**\n",
        "Data is already prepared. Going to first implement linear regression using just Numpy.  "
      ]
    },
    {
      "cell_type": "markdown",
      "metadata": {
        "id": "JJZF4O79DQcr"
      },
      "source": [
        "## **Split Data**\n",
        "Split dataset into three sets: train, validation and test data splits.\n",
        "\n",
        "\n",
        "*   train: used to train model.\n",
        "*   val: used to validate our model's performance during training.\n",
        "*   test: used to do an evaluation of our fully trained model.\n",
        "\n",
        "\n",
        "\n"
      ]
    },
    {
      "cell_type": "code",
      "metadata": {
        "colab": {
          "base_uri": "https://localhost:8080/"
        },
        "id": "0-6QN-1KC7ad",
        "outputId": "6a53b59e-e774-4155-a50a-104c9ef98e6e"
      },
      "source": [
        "TRAIN_SIZE = 0.7\n",
        "VAL_SIZE = 0.15\n",
        "TEST_SIZE = 0.15\n",
        "\n",
        "# Shuffle data\n",
        "indices = list(range(NUM_SAMPLES))\n",
        "np.random.shuffle(indices)\n",
        "X = X[indices]\n",
        "y = y[indices]\n",
        "\n",
        "# Split indices\n",
        "train_start = 0\n",
        "train_end = int(TRAIN_SIZE * NUM_SAMPLES)\n",
        "val_start = train_end\n",
        "val_end = int((TRAIN_SIZE + VAL_SIZE)* NUM_SAMPLES)\n",
        "test_start = val_end\n",
        "\n",
        "# Split Data\n",
        "X_train = X[train_start:train_end]\n",
        "y_train = y[train_start:train_end]\n",
        "X_val = X[val_start:val_end]\n",
        "y_val = y[val_start:val_end]\n",
        "X_test = X[test_start:]\n",
        "y_test = y[test_start:]\n",
        "\n",
        "print(f\"X_train:{X_train.shape}, y_train:{y_train.shape}\")\n",
        "print(f\"X_val:{X_val.shape}, y_val:{y_val.shape}\")\n",
        "print(f\"X_test:{X_test.shape}, y_test:{y_test.shape}\")"
      ],
      "execution_count": 513,
      "outputs": [
        {
          "output_type": "stream",
          "text": [
            "X_train:(35, 1), y_train:(35, 1)\n",
            "X_val:(7, 1), y_val:(7, 1)\n",
            "X_test:(8, 1), y_test:(8, 1)\n"
          ],
          "name": "stdout"
        }
      ]
    },
    {
      "cell_type": "markdown",
      "metadata": {
        "id": "0pspT8CYMUy-"
      },
      "source": [
        "## **Standardize data**"
      ]
    },
    {
      "cell_type": "code",
      "metadata": {
        "id": "Yrtl2ZKtMPlo",
        "colab": {
          "base_uri": "https://localhost:8080/"
        },
        "outputId": "7ae66c38-b0c7-4dd7-813b-8f7bc9d56d90"
      },
      "source": [
        "def standardize_data(data, mean, std):\n",
        "  return (data-mean)/std\n",
        "\n",
        "# Determine means and stds\n",
        "X_mean = np.mean(X_train)\n",
        "X_std = np.std(X_train)\n",
        "y_mean = np.mean(y_train)\n",
        "y_std = np.std(y_train)\n",
        "\n",
        "print(\"X_mean:\", X_mean)\n",
        "print(\"X_std:\", X_std)\n",
        "print(\"y_mean:\", y_mean)\n",
        "print(\"y_std:\", y_std)"
      ],
      "execution_count": 514,
      "outputs": [
        {
          "output_type": "stream",
          "text": [
            "X_mean: 27.0\n",
            "X_std: 14.863185584331701\n",
            "y_mean: 100.23554348153554\n",
            "y_std: 51.625594778672756\n"
          ],
          "name": "stdout"
        }
      ]
    },
    {
      "cell_type": "markdown",
      "metadata": {
        "id": "DQKCT-9sPeNl"
      },
      "source": [
        "Need to treat the validation and test sets as if they were hidden datasets. So only use the train set to determine the mean and std to avoid biasing our training process."
      ]
    },
    {
      "cell_type": "code",
      "metadata": {
        "id": "UinCIZ2ZP8JR",
        "colab": {
          "base_uri": "https://localhost:8080/"
        },
        "outputId": "d719bdb8-07d9-4487-f3ed-14eb5b46d02a"
      },
      "source": [
        "X_train = standardize_data(X_train, X_mean, X_std)\n",
        "y_train = standardize_data(y_train, y_mean, y_std)\n",
        "X_val = standardize_data(X_val, X_mean, X_std)\n",
        "y_val = standardize_data(y_val, y_mean, y_std)\n",
        "X_test = standardize_data(X_test, X_mean, X_std)\n",
        "y_test = standardize_data(y_test, y_mean, y_std)\n",
        "\n",
        "# Check (mean should be about 0 and std shoulb be about 1)\n",
        "print(\"X_test:\", X_test)\n",
        "print(f\"mean:{np.mean(X_test, axis=0)[0]:.1f}, std:{np.std(X_test, axis=0)[0]:.1f}\")\n",
        "print(f\"mean:{np.mean(y_test, axis=0)[0]:.1f}, std:{np.std(y_test, axis=0)[0]:.1f}\")\n"
      ],
      "execution_count": 515,
      "outputs": [
        {
          "output_type": "stream",
          "text": [
            "X_test: [[-1.14376557]\n",
            " [ 0.4709623 ]\n",
            " [-0.80736393]\n",
            " [-1.48016721]\n",
            " [-1.61472787]\n",
            " [ 0.60552295]\n",
            " [-1.34560656]\n",
            " [ 0.74008361]]\n",
            "mean:-0.6, std:0.9\n",
            "mean:-0.6, std:0.9\n"
          ],
          "name": "stdout"
        }
      ]
    },
    {
      "cell_type": "markdown",
      "metadata": {
        "id": "Pj-ttz63PLIA"
      },
      "source": [
        "## **Weight**\n",
        "The goal is to learn a linear model y that models y given X usingweights W and bias b -> y = XW+b"
      ]
    },
    {
      "cell_type": "markdown",
      "metadata": {
        "id": "Rw3V8iqiQMXE"
      },
      "source": [
        "step 1: Randomly initialize the model's weights W"
      ]
    },
    {
      "cell_type": "code",
      "metadata": {
        "id": "LlmqLef9QTPf"
      },
      "source": [
        "INPUT_DIM = X_train.shape[1] # X is 1-dimenstional\n",
        "OUTPUT_DIM = y_train.shape[1] # y is 1-dimensional"
      ],
      "execution_count": 516,
      "outputs": []
    },
    {
      "cell_type": "code",
      "metadata": {
        "colab": {
          "base_uri": "https://localhost:8080/"
        },
        "id": "BGauZyrLQyCi",
        "outputId": "826b3ce7-31df-4e13-c0e6-015a0733a352"
      },
      "source": [
        "# Initialize random weights\n",
        "W = 0.01 * np.random.randn(INPUT_DIM, OUTPUT_DIM)\n",
        "b = np.zeros((1,1))\n",
        "print(f\"W:{W.shape}\")\n",
        "print(f\"b:{b.shape}\")"
      ],
      "execution_count": 517,
      "outputs": [
        {
          "output_type": "stream",
          "text": [
            "W:(1, 1)\n",
            "b:(1, 1)\n"
          ],
          "name": "stdout"
        }
      ]
    },
    {
      "cell_type": "markdown",
      "metadata": {
        "id": "hr0m_UfMRgeB"
      },
      "source": [
        "## **Model**"
      ]
    },
    {
      "cell_type": "markdown",
      "metadata": {
        "id": "ok2vgRElRlN_"
      },
      "source": [
        "step 2: Feed inputs X into the model to receive the predictions y"
      ]
    },
    {
      "cell_type": "code",
      "metadata": {
        "colab": {
          "base_uri": "https://localhost:8080/"
        },
        "id": "PJLRWOxKRkWf",
        "outputId": "87ae3b62-6b95-4611-9855-7fa6f035b11c"
      },
      "source": [
        "# Forward pass[Nx1]*[1x1] = [Nx1]\n",
        "y_pred = np.dot(X_train, W) + b\n",
        "print(f\"y_pred:{y_pred.shape}\")"
      ],
      "execution_count": 518,
      "outputs": [
        {
          "output_type": "stream",
          "text": [
            "y_pred:(35, 1)\n"
          ],
          "name": "stdout"
        }
      ]
    },
    {
      "cell_type": "markdown",
      "metadata": {
        "id": "d2kp3QKtSdeg"
      },
      "source": [
        "## **Loss**\n",
        "step 3: Compare the predictions y' with the actual target values y using the objective(cost) function to determine the loss J. A common objective function for linear regression is mean squared error(MSE). This function calculates the difference between the prediction and target values and squares it."
      ]
    },
    {
      "cell_type": "code",
      "metadata": {
        "colab": {
          "base_uri": "https://localhost:8080/"
        },
        "id": "gWYL9ZYBSct7",
        "outputId": "cfc63c10-da6f-42f5-f810-1c4fecfef984"
      },
      "source": [
        "# Loss\n",
        "N = len(y_train)\n",
        "loss = (1/N) * np.sum((y_train - y_pred)**2)\n",
        "print(f\"loss:{loss:.2f}\")"
      ],
      "execution_count": 519,
      "outputs": [
        {
          "output_type": "stream",
          "text": [
            "loss:0.99\n"
          ],
          "name": "stdout"
        }
      ]
    },
    {
      "cell_type": "markdown",
      "metadata": {
        "id": "2jhTmadCU43q"
      },
      "source": [
        "## **Gradients**\n",
        "step 4: Calculate the gradient of loss J w.r.t to the model weights."
      ]
    },
    {
      "cell_type": "code",
      "metadata": {
        "id": "m8U_A9VMUvIF"
      },
      "source": [
        "# Backpropagation\n",
        "dW = -(2/N) * np.sum((y_train - y_pred) * X_train)\n",
        "db = -(2/N) * np.sum((y_train - y_pred) * 1)"
      ],
      "execution_count": 520,
      "outputs": []
    },
    {
      "cell_type": "markdown",
      "metadata": {
        "id": "3-0DYK94Zc2q"
      },
      "source": [
        "Gradient is the derivative, or the rate of change of a function. It's a vector that points in the direction of greatest increase of a function. We want to minimize the loss function, so we need to subtract the gradient from W and b. "
      ]
    },
    {
      "cell_type": "markdown",
      "metadata": {
        "id": "iXOu06noXTiP"
      },
      "source": [
        "## **Update weights**\n",
        "step 5: Update the weights W using a small learing rate a.\n"
      ]
    },
    {
      "cell_type": "code",
      "metadata": {
        "id": "2FKWBnnaXS9U"
      },
      "source": [
        "LEARNING_RATE = 1e-1\n",
        "# Update weights\n",
        "W += -LEARNING_RATE*dW\n",
        "b += -LEARNING_RATE*db"
      ],
      "execution_count": 521,
      "outputs": []
    },
    {
      "cell_type": "markdown",
      "metadata": {
        "id": "gG6I80MrYJRU"
      },
      "source": [
        "## **Training**\n",
        "step 6: Repeat steps 2 -> 5 to minimize the loss and train the model"
      ]
    },
    {
      "cell_type": "code",
      "metadata": {
        "colab": {
          "base_uri": "https://localhost:8080/"
        },
        "id": "uPm5W2C7YIzv",
        "outputId": "0d278b2c-25bc-475e-b0f5-5fe9ce1a3ec5"
      },
      "source": [
        "NUM_EPOCHS = 100\n",
        "# Randomly initialize weight W and bias b\n",
        "W = 0.01*np.random.randn(INPUT_DIM,OUTPUT_DIM)\n",
        "b = np.zeros((1,1))\n",
        "\n",
        "# Training Loop\n",
        "for epoch_num in range(NUM_EPOCHS):\n",
        "  # models\n",
        "  y_pred = np.dot(X_train, W) + b\n",
        "  \n",
        "  # Loss function\n",
        "  loss = (1/len(y_train)) * np.sum((y_train - y_pred)**2)\n",
        "\n",
        "  # Show progress\n",
        "  if epoch_num%10 == 0:\n",
        "    print(f\"Epoch: {epoch_num}, loss:{loss:.3f}\")\n",
        "\n",
        "  # gradients\n",
        "  dW = -(2/N) * np.sum((y_train - y_pred) * X_train)\n",
        "  db = -(2/N) * np.sum((y_train - y_pred) * 1)\n",
        "\n",
        "  # Update weight and bias\n",
        "  W += -LEARNING_RATE * dW\n",
        "  b += -LEARNING_RATE * db\n",
        "\n"
      ],
      "execution_count": 522,
      "outputs": [
        {
          "output_type": "stream",
          "text": [
            "Epoch: 0, loss:0.990\n",
            "Epoch: 10, loss:0.039\n",
            "Epoch: 20, loss:0.028\n",
            "Epoch: 30, loss:0.028\n",
            "Epoch: 40, loss:0.028\n",
            "Epoch: 50, loss:0.028\n",
            "Epoch: 60, loss:0.028\n",
            "Epoch: 70, loss:0.028\n",
            "Epoch: 80, loss:0.028\n",
            "Epoch: 90, loss:0.028\n"
          ],
          "name": "stdout"
        }
      ]
    },
    {
      "cell_type": "markdown",
      "metadata": {
        "id": "ot9ShDWGf2Cd"
      },
      "source": [
        "## **Evaluation**\n",
        "Now to see how well the trained model will perform on test data split. This will be our best measure on how well the model would perform on the real world, given that our dataset's distribution is close to unseen data. "
      ]
    },
    {
      "cell_type": "code",
      "metadata": {
        "colab": {
          "base_uri": "https://localhost:8080/"
        },
        "id": "S_NZs8UtgMtr",
        "outputId": "b651007b-adfe-481d-dd38-1213c0f3020d"
      },
      "source": [
        "# predictions\n",
        "pred_train = W * X_train + b\n",
        "pred_test = W * X_test + b\n",
        "\n",
        "# Train and test MSE\n",
        "train_mse = np.mean((y_train - pred_train)**2)\n",
        "test_mse = np.mean((y_test - pred_test)**2)\n",
        "print(f\"train_MSE:{train_mse:.2f}, test_MSE:{test_mse:.2f}\")"
      ],
      "execution_count": 523,
      "outputs": [
        {
          "output_type": "stream",
          "text": [
            "train_MSE:0.03, test_MSE:0.01\n"
          ],
          "name": "stdout"
        }
      ]
    },
    {
      "cell_type": "code",
      "metadata": {
        "colab": {
          "base_uri": "https://localhost:8080/",
          "height": 353
        },
        "id": "Mn8sLVIYh11r",
        "outputId": "64f64abe-7224-4f90-c489-0755215366d3"
      },
      "source": [
        "# Figure size\n",
        "plt.figure(figsize=(15,5))\n",
        "\n",
        "# Plot train data\n",
        "plt.subplot(1, 2, 1)\n",
        "plt.title(\"Train\")\n",
        "plt.scatter(X_train, y_train, label=\"y_train\")\n",
        "plt.plot(X_train, pred_train, color='red', linewidth=1, linestyle='-' , label='model')\n",
        "plt.legend(loc='lower right')\n",
        "\n",
        "# Plot test data\n",
        "plt.subplot(1, 2, 2)\n",
        "plt.title(\"Test\")\n",
        "plt.scatter(X_test, y_test, label=\"y_test\")\n",
        "plt.plot(X_test, pred_test, color='red', linewidth=1, linestyle='-' , label='model')\n",
        "plt.legend(loc='lower right')"
      ],
      "execution_count": 524,
      "outputs": [
        {
          "output_type": "execute_result",
          "data": {
            "text/plain": [
              "<matplotlib.legend.Legend at 0x7f7a1810a590>"
            ]
          },
          "metadata": {
            "tags": []
          },
          "execution_count": 524
        },
        {
          "output_type": "display_data",
          "data": {
            "image/png": "[encoded data removed]",
            "text/plain": [
              "<Figure size 1080x360 with 2 Axes>"
            ]
          },
          "metadata": {
            "tags": [],
            "needs_background": "light"
          }
        }
      ]
    },
    {
      "cell_type": "markdown",
      "metadata": {
        "id": "MOsRDXfdl8z1"
      },
      "source": [
        "## **Interpretability**\n",
        "Since the input and output are standardized, weights were fit to those standardized values. So need to unstandardize weightt. Then be able to compare it to the true weight(3.5)."
      ]
    },
    {
      "cell_type": "code",
      "metadata": {
        "colab": {
          "base_uri": "https://localhost:8080/"
        },
        "id": "YPDZ_0drm3GG",
        "outputId": "4be92004-34c7-4c1d-9284-b46cb732ba3b"
      },
      "source": [
        "# Unscaled weights\n",
        "W_unscaled = W * (y_std/X_std)\n",
        "b_unscaled = b * y_std + y_mean - W_unscaled * X_mean\n",
        "print(\"[actual] y = 3.5x + noise\")\n",
        "print(f\"[model] y_hat = {W_unscaled[0][0]:.1f}X + {b_unscaled[0][0]:.1f}\")"
      ],
      "execution_count": 525,
      "outputs": [
        {
          "output_type": "stream",
          "text": [
            "[actual] y = 3.5x + noise\n",
            "[model] y_hat = 3.4X + 7.8\n"
          ],
          "name": "stdout"
        }
      ]
    },
    {
      "cell_type": "markdown",
      "metadata": {
        "id": "KAVt6ddSp2XH"
      },
      "source": [
        "## **PyTorch**\n",
        "Implement linear regression with PyTorch."
      ]
    },
    {
      "cell_type": "code",
      "metadata": {
        "colab": {
          "base_uri": "https://localhost:8080/"
        },
        "id": "QkLLO3v9qMiQ",
        "outputId": "dbcec383-87e8-403a-f42b-5e5c87c8ef67"
      },
      "source": [
        "import torch\n",
        "# set seed for reproducibility\n",
        "torch.manual_seed(SEED)"
      ],
      "execution_count": 526,
      "outputs": [
        {
          "output_type": "execute_result",
          "data": {
            "text/plain": [
              "<torch._C.Generator at 0x7f7a294a0470>"
            ]
          },
          "metadata": {
            "tags": []
          },
          "execution_count": 526
        }
      ]
    },
    {
      "cell_type": "markdown",
      "metadata": {
        "id": "rKWY0QvBq9K8"
      },
      "source": [
        "## **Split Data**\n",
        "Instead of splitting data using indices, let's use scikit-learn's built in train_test_split function."
      ]
    },
    {
      "cell_type": "code",
      "metadata": {
        "colab": {
          "base_uri": "https://localhost:8080/"
        },
        "id": "eJxtYXLEq8OK",
        "outputId": "f464fb3c-ef90-45ab-fcb0-89b69ef46048"
      },
      "source": [
        "from sklearn.model_selection import train_test_split\n",
        "TRAIN_SIZE = 0.7\n",
        "VAL_SIZE = 0.15\n",
        "TEST_SIZE = 0.15\n",
        "\n",
        "# Split (train)\n",
        "X_train, X_, y_train, y_ = train_test_split(X, y, train_size=TRAIN_SIZE)\n",
        "print(f\"train: {len(X_train)}({len(X_train)/len(X)})\")\n",
        "print(f\"train: {len(X_)}({len(X_)/len(X)})\")"
      ],
      "execution_count": 527,
      "outputs": [
        {
          "output_type": "stream",
          "text": [
            "train: 35(0.7)\n",
            "train: 15(0.3)\n"
          ],
          "name": "stdout"
        }
      ]
    },
    {
      "cell_type": "code",
      "metadata": {
        "colab": {
          "base_uri": "https://localhost:8080/"
        },
        "id": "5pb8vy_TtYzy",
        "outputId": "5690a709-6fe5-459a-b018-f3cd01f499b2"
      },
      "source": [
        "X_val, X_test, y_val, y_test = train_test_split(X_, y_, train_size=0.5)\n",
        "print(f\"train: {len(X_train)}({len(X_train)/len(X)})\")\n",
        "print(f\"val: {len(X_val)}({len(X_val)/len(X)})\")\n",
        "print(f\"test: {len(X_test)}({len(X_test)/len(X)})\")"
      ],
      "execution_count": 528,
      "outputs": [
        {
          "output_type": "stream",
          "text": [
            "train: 35(0.7)\n",
            "val: 7(0.14)\n",
            "test: 8(0.16)\n"
          ],
          "name": "stdout"
        }
      ]
    },
    {
      "cell_type": "markdown",
      "metadata": {
        "id": "qwV4nfZfQ-t7"
      },
      "source": [
        "## **Standardize data**\n",
        "use scikit-learn's StandarScaler to standardize our data."
      ]
    },
    {
      "cell_type": "code",
      "metadata": {
        "id": "XJha7hHJRXdX"
      },
      "source": [
        "from sklearn.preprocessing import StandardScaler\n",
        "# Standardize the data (mean=0, std=1) using training data\n",
        "X_scaler = StandardScaler().fit(X_train)\n",
        "y_scaler = StandardScaler().fit(y_train)\n",
        "\n",
        "X_train = X_scaler.transform(X_train)\n",
        "y_train = y_scaler.transform(y_train).ravel().reshape(-1,1)\n",
        "X_val  = X_scaler.transform(X_val)\n",
        "y_val  = y_scaler.transform(y_val).ravel().reshape(-1,1)\n",
        "X_test = X_scaler.transform(X_test)\n",
        "y_test = y_scaler.transform(y_test).ravel().reshape(-1,1)"
      ],
      "execution_count": 529,
      "outputs": []
    },
    {
      "cell_type": "code",
      "metadata": {
        "colab": {
          "base_uri": "https://localhost:8080/"
        },
        "id": "OH0VbCbpfqur",
        "outputId": "e762eca8-ec64-42df-916a-0f0907a529ee"
      },
      "source": [
        "# Check (means should be 0 and std should be 1)\n",
        "print(f\"mean: {np.mean(X_test, axis=0)[0]:.1f}, std: {np.std(X_test, axis=0)[0]:.1f}\")\n",
        "print(f\"mean: {np.mean(y_test, axis=0)[0]:.1f}, std: {np.std(y_test, axis=0)[0]:.1f}\")"
      ],
      "execution_count": 530,
      "outputs": [
        {
          "output_type": "stream",
          "text": [
            "mean: -0.5, std: 0.8\n",
            "mean: -0.5, std: 0.8\n"
          ],
          "name": "stdout"
        }
      ]
    },
    {
      "cell_type": "markdown",
      "metadata": {
        "id": "8RSOpKVchAXa"
      },
      "source": [
        "## **Weight**\n",
        "Use PyTorch's Linear layers in our MLP implementation. These layers will act as out weights(and biases)."
      ]
    },
    {
      "cell_type": "code",
      "metadata": {
        "colab": {
          "base_uri": "https://localhost:8080/"
        },
        "id": "07gkEIxXhAGS",
        "outputId": "bfda1ea7-7e0b-4684-b032-717af8bd8128"
      },
      "source": [
        "from torch import nn\n",
        "# Inputs\n",
        "N = 3 # num samples\n",
        "x = torch.rand(N, INPUT_DIM)\n",
        "print(x.shape)\n",
        "print(x.numpy())"
      ],
      "execution_count": 531,
      "outputs": [
        {
          "output_type": "stream",
          "text": [
            "torch.Size([3, 1])\n",
            "[[0.02897924]\n",
            " [0.40189856]\n",
            " [0.25984418]]\n"
          ],
          "name": "stdout"
        }
      ]
    },
    {
      "cell_type": "code",
      "metadata": {
        "colab": {
          "base_uri": "https://localhost:8080/"
        },
        "id": "E5msPRSeieT2",
        "outputId": "36c13244-5673-463f-80a0-100ec9737a5c"
      },
      "source": [
        "# Weights\n",
        "m = nn.Linear(INPUT_DIM, OUTPUT_DIM)\n",
        "print(m)\n",
        "print(f\"weight: ({m.weight.shape}):{m.weight[0][0]}\")\n",
        "print(f\"bias: ({m.bias.shape}):{m.bias[0]}\")"
      ],
      "execution_count": 532,
      "outputs": [
        {
          "output_type": "stream",
          "text": [
            "Linear(in_features=1, out_features=1, bias=True)\n",
            "weight: (torch.Size([1, 1])):-0.2667173147201538\n",
            "bias: (torch.Size([1])):-0.8833985328674316\n"
          ],
          "name": "stdout"
        }
      ]
    },
    {
      "cell_type": "code",
      "metadata": {
        "colab": {
          "base_uri": "https://localhost:8080/"
        },
        "id": "Tf-avoclkWMG",
        "outputId": "c01e2560-6f7a-497a-e5ee-27ce394a5519"
      },
      "source": [
        "# Forward pass\n",
        "z = m(x)\n",
        "print(z.shape)\n",
        "print(z.detach().numpy())"
      ],
      "execution_count": 533,
      "outputs": [
        {
          "output_type": "stream",
          "text": [
            "torch.Size([3, 1])\n",
            "[[-0.8911278]\n",
            " [-0.9905918]\n",
            " [-0.9527035]]\n"
          ],
          "name": "stdout"
        }
      ]
    },
    {
      "cell_type": "markdown",
      "metadata": {
        "id": "RX86_wHBOhmL"
      },
      "source": [
        "## **Model**\n",
        "y = XW + b"
      ]
    },
    {
      "cell_type": "code",
      "metadata": {
        "id": "zJabVqPlOmEy"
      },
      "source": [
        "class LinearRegression(nn.Module):\n",
        "  def __init__(self, input_dim, output_dim):\n",
        "    super(LinearRegression, self).__init__()\n",
        "    self.fc1 = nn.Linear(input_dim, output_dim)\n",
        "\n",
        "  def forward(self, x_in):\n",
        "    y_pred = self.fc1(x_in)\n",
        "    return y_pred\n"
      ],
      "execution_count": 534,
      "outputs": []
    },
    {
      "cell_type": "code",
      "metadata": {
        "colab": {
          "base_uri": "https://localhost:8080/"
        },
        "id": "X6YbQymjRZyT",
        "outputId": "71769b32-a40e-48b7-8834-49b2ae4632ee"
      },
      "source": [
        "#Initialize Model\n",
        "model = LinearRegression(input_dim=INPUT_DIM, output_dim=OUTPUT_DIM)\n",
        "print(model.parameters)"
      ],
      "execution_count": 535,
      "outputs": [
        {
          "output_type": "stream",
          "text": [
            "<bound method Module.parameters of LinearRegression(\n",
            "  (fc1): Linear(in_features=1, out_features=1, bias=True)\n",
            ")>\n"
          ],
          "name": "stdout"
        }
      ]
    },
    {
      "cell_type": "markdown",
      "metadata": {
        "id": "chMYjpw1R2U0"
      },
      "source": [
        "## **Loss**\n",
        "Use PyTorch's loss functions, specifically MSELoss\n"
      ]
    },
    {
      "cell_type": "code",
      "metadata": {
        "id": "ErJLgmlpR0Ii"
      },
      "source": [
        "loss_fn = nn.MSELoss()\n",
        "#y_pred = torch.Tensor([0,0,1,1])\n",
        "#y_true = torch.Tensor([1,1,1,0])\n",
        "#print(y_pred)\n",
        "#print(y_true)\n",
        "#loss = loss_fn(y_pred, y_true)\n",
        "#print('loss: ', loss.numpy())"
      ],
      "execution_count": 536,
      "outputs": []
    },
    {
      "cell_type": "markdown",
      "metadata": {
        "id": "d5W3clXtV276"
      },
      "source": [
        "## **Optimizer**\n",
        "When implemented linear regression with just Numpy, we used batch gradient descent to update weights. But here are actually many different gradient descent optimization algorithms to choose from and it depends on the situation. However, the ADAM optimizer has become a standard algorithm for most cases."
      ]
    },
    {
      "cell_type": "code",
      "metadata": {
        "id": "TyYUHtw-k-CX"
      },
      "source": [
        "from torch.optim import Adam\n",
        "#Optimizer\n",
        "optimizer = Adam(model.parameters(), lr=LEARNING_RATE)"
      ],
      "execution_count": 537,
      "outputs": []
    },
    {
      "cell_type": "markdown",
      "metadata": {
        "id": "6JKpRhben0FK"
      },
      "source": [
        "## **Training**"
      ]
    },
    {
      "cell_type": "code",
      "metadata": {
        "id": "p1IXm2HvsH6Z"
      },
      "source": [
        "# Convert data to tensors\n",
        "X_train = torch.Tensor(X_train)\n",
        "y_train = torch.Tensor(y_train)\n",
        "X_val = torch.Tensor(X_val)\n",
        "y_val = torch.Tensor(y_val)\n",
        "X_test = torch.Tensor(X_test)\n",
        "y_test = torch.Tensor(y_test)"
      ],
      "execution_count": 538,
      "outputs": []
    },
    {
      "cell_type": "markdown",
      "metadata": {
        "id": "yWxgVFbRB187"
      },
      "source": [
        "Inside the training loop, optimization happens in three steps:\n",
        "1. Call optimizer.zero_grad() to reset the gradients of model parameters. Gradients by default add up; to prevent double-counting, we explicitly zero them at each iteration.\n",
        "2. Backpropagate the prediction loss with a call to loss.backwards(). PyTorch deposits the gradients of the loss w.r.t. each parameter.\n",
        "3. Once we have our gradients, we call optimizer.step() to adjust the parameters by the gradients collected in the backward pass."
      ]
    },
    {
      "cell_type": "code",
      "metadata": {
        "colab": {
          "base_uri": "https://localhost:8080/"
        },
        "id": "_SFAuGuMn2Yj",
        "outputId": "47d51ebb-cc16-4b80-b10e-0c102dc12858"
      },
      "source": [
        "# Trianing\n",
        "for epoch in range(NUM_EPOCHS):\n",
        "  # Forward pass\n",
        "  y_pred = model(X_train)\n",
        "\n",
        "  # Loss\n",
        "  loss = loss_fn(y_pred, y_train)\n",
        "\n",
        "  # Zero all gradients\n",
        "  optimizer.zero_grad()\n",
        "\n",
        " # Backward pass\n",
        "  loss.backward()\n",
        "  \n",
        "  # Update weights\n",
        "  optimizer.step()\n",
        "\n",
        "  if epoch%20 == 0:\n",
        "    print(f\"Epoch: {epoch} | loss: {loss:.2f}\")\n"
      ],
      "execution_count": 539,
      "outputs": [
        {
          "output_type": "stream",
          "text": [
            "Epoch: 0 | loss: 1.17\n",
            "Epoch: 20 | loss: 0.08\n",
            "Epoch: 40 | loss: 0.03\n",
            "Epoch: 60 | loss: 0.02\n",
            "Epoch: 80 | loss: 0.02\n"
          ],
          "name": "stdout"
        }
      ]
    },
    {
      "cell_type": "markdown",
      "metadata": {
        "id": "YyX_yarPF7eW"
      },
      "source": [
        "## **Evaluation**\n",
        "Now ready to evaluate the trained model"
      ]
    },
    {
      "cell_type": "code",
      "metadata": {
        "colab": {
          "base_uri": "https://localhost:8080/"
        },
        "id": "l3zTudL5F7Hw",
        "outputId": "89b15c69-1714-40a6-902a-5669cd7b8feb"
      },
      "source": [
        "# Predictions\n",
        "pred_train = model(X_train)\n",
        "pred_test = model(X_test)\n",
        "\n",
        "# Performance\n",
        "train_error = loss_fn(pred_train, y_train)\n",
        "test_error = loss_fn(pred_test, y_test)\n",
        "print(f\"train_error:{train_error:.2f}\")\n",
        "print(f\"test_error:{test_error:.2f}\")"
      ],
      "execution_count": 540,
      "outputs": [
        {
          "output_type": "stream",
          "text": [
            "train_error:0.02\n",
            "test_error:0.01\n"
          ],
          "name": "stdout"
        }
      ]
    },
    {
      "cell_type": "markdown",
      "metadata": {
        "id": "ZwrvafqRGhz1"
      },
      "source": [
        "since only have one festure, it's easy to visually inspect the model"
      ]
    },
    {
      "cell_type": "code",
      "metadata": {
        "colab": {
          "base_uri": "https://localhost:8080/",
          "height": 336
        },
        "id": "BhJmxAcTGm_A",
        "outputId": "f2007c65-6a17-454a-d08c-3d7199a045d7"
      },
      "source": [
        "# Figure size\n",
        "plt.figure(figsize=(15,5))\n",
        "\n",
        "# Plot train data\n",
        "plt.subplot(1,2,1)\n",
        "plt.title(\"train\")\n",
        "plt.scatter(X_train, y_train, label = \"y_trained\")\n",
        "plt.plot(X_train, pred_train.detach().numpy(), color=\"red\", linewidth=1, linestyle='-', label='model')\n",
        "plt.legend(loc='lower right')\n",
        "\n",
        "# Plot test data\n",
        "plt.subplot(1,2,2)\n",
        "plt.title(\"test\")\n",
        "plt.scatter(X_test, y_test, label = \"y_test\")\n",
        "plt.plot(X_test, pred_test.detach().numpy(), color=\"red\", linewidth=1, linestyle='-', label='model')\n",
        "plt.legend(loc='lower right')\n",
        "\n",
        "# Show plots\n",
        "plt.show()"
      ],
      "execution_count": 543,
      "outputs": [
        {
          "output_type": "display_data",
          "data": {
            "image/png": "[encoded data removed]",
            "text/plain": [
              "<Figure size 1080x360 with 2 Axes>"
            ]
          },
          "metadata": {
            "tags": [],
            "needs_background": "light"
          }
        }
      ]
    },
    {
      "cell_type": "markdown",
      "metadata": {
        "id": "9YGVFB9vIatx"
      },
      "source": [
        "## **Inference**\n",
        "After training a model, we can use it to predict on new data\n",
        " "
      ]
    },
    {
      "cell_type": "code",
      "metadata": {
        "id": "Kwsk4UqTIuMV"
      },
      "source": [
        "# Feed in own input\n",
        "sample_indices = [10, 15, 20]\n",
        "X_infer = np.array(sample_indices, dtype=np.float32)\n",
        "X_infer = torch.Tensor(X_scaler.transform(X_infer.reshape(-1,1)))"
      ],
      "execution_count": 544,
      "outputs": []
    },
    {
      "cell_type": "markdown",
      "metadata": {
        "id": "u_8nAJkHJMj4"
      },
      "source": [
        "Unstandardize predictions"
      ]
    },
    {
      "cell_type": "code",
      "metadata": {
        "colab": {
          "base_uri": "https://localhost:8080/"
        },
        "id": "tK0NZrPeJP8P",
        "outputId": "cf7cb4f8-41a2-42d3-b3bc-623c431a5db9"
      },
      "source": [
        "pred_infer = model(X_infer).detach().numpy()*np.sqrt(y_scaler.var_) + y_scaler.mean_\n",
        "for i, index in enumerate(sample_indices):\n",
        "  print(f\"{df.iloc[index]['y']:.2f}(actual) -> {pred_infer[i][0]:.2f}(predicted)\")"
      ],
      "execution_count": 545,
      "outputs": [
        {
          "output_type": "stream",
          "text": [
            "35.73(actual) -> 41.71(predicted)\n",
            "59.34(actual) -> 58.94(predicted)\n",
            "70.95(actual) -> 76.17(predicted)\n"
          ],
          "name": "stdout"
        }
      ]
    },
    {
      "cell_type": "markdown",
      "metadata": {
        "id": "RG9db99oMCU9"
      },
      "source": [
        "## **Interpretability**\n",
        "Linear regression offers the great advantage of being highly interpretable. Each feature has a coefficient which signifies its importance/impact on the output variable y. We can interpret our coefficient as follows: by increasing X by 1 unit, we increate y  by W(-3.65) units\n"
      ]
    },
    {
      "cell_type": "code",
      "metadata": {
        "colab": {
          "base_uri": "https://localhost:8080/"
        },
        "id": "yzAkB-SbMh-a",
        "outputId": "29dd82a5-d6af-406f-8d0c-08d8ec8d6a94"
      },
      "source": [
        "# Unstandardize coefficients\n",
        "W = model.fc1.weight.data.numpy()[0][0]\n",
        "b = model.fc1.bias.data.numpy()[0]\n",
        "W_unscaled = W * (y_scaler.scale_/X_scaler.scale_)\n",
        "b_unscaled = b * y_scaler.scale_ + y_scaler.mean_ - np.sum(W_unscaled * X_scaler.mean_)\n",
        "print(\"[acutal] y = 3.5X + noise\")\n",
        "print(f\"[model]y_hat = {W_unscaled[0]:.1f}X + {b_unscaled[0]:.1f}\")"
      ],
      "execution_count": 547,
      "outputs": [
        {
          "output_type": "stream",
          "text": [
            "[acutal] y = 3.5X + noise\n",
            "[model]y_hat = 3.4X + 7.2\n"
          ],
          "name": "stdout"
        }
      ]
    },
    {
      "cell_type": "markdown",
      "metadata": {
        "id": "JZMgy0VOEU76"
      },
      "source": [
        ""
      ]
    }
  ]
}