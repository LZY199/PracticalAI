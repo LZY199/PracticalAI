{
  "nbformat": 4,
  "nbformat_minor": 0,
  "metadata": {
    "colab": {
      "name": "Python_basic.ipynb",
      "provenance": [],
      "authorship_tag": "ABX9TyNOLmgkKWU1szqwtnRnbDED",
      "include_colab_link": true
    },
    "kernelspec": {
      "name": "python3",
      "display_name": "Python 3"
    }
  },
  "cells": [
    {
      "cell_type": "markdown",
      "metadata": {
        "id": "view-in-github",
        "colab_type": "text"
      },
      "source": [
        "<a href=\"https://colab.research.google.com/github/LZY199/PracticalAI/blob/main/Python_basic.ipynb\" target=\"_parent\"><img src=\"https://colab.research.google.com/assets/colab-badge.svg\" alt=\"Open In Colab\"/></a>"
      ]
    },
    {
      "cell_type": "code",
      "metadata": {
        "colab": {
          "base_uri": "https://localhost:8080/"
        },
        "id": "q33QHSsAmFk7",
        "outputId": "a70a8114-3fe4-478c-d26e-c7a1e21fcd3e"
      },
      "source": [
        "x = \"a\"\r\n",
        "print (x)\r\n",
        "print (type(x))"
      ],
      "execution_count": 15,
      "outputs": [
        {
          "output_type": "stream",
          "text": [
            "a\n",
            "<class 'str'>\n"
          ],
          "name": "stdout"
        }
      ]
    },
    {
      "cell_type": "code",
      "metadata": {
        "colab": {
          "base_uri": "https://localhost:8080/"
        },
        "id": "vGbs3D0pnJCG",
        "outputId": "cc76a5ef-460c-443b-c6cc-a0fa3a30a74b"
      },
      "source": [
        "x_list = [1, \"a\", 5.0, \"hello\"]\r\n",
        "print (x_list)\r\n",
        "print (type(x_list))"
      ],
      "execution_count": 16,
      "outputs": [
        {
          "output_type": "stream",
          "text": [
            "a\n",
            "<class 'list'>\n"
          ],
          "name": "stdout"
        }
      ]
    },
    {
      "cell_type": "code",
      "metadata": {
        "colab": {
          "base_uri": "https://localhost:8080/"
        },
        "id": "-LdfUNXtniaK",
        "outputId": "dc1b41c1-1b75-4a21-c95d-5d7fa08a2618"
      },
      "source": [
        "x_list.append(7)\r\n",
        "print(x_list)"
      ],
      "execution_count": 18,
      "outputs": [
        {
          "output_type": "stream",
          "text": [
            "[1, 'a', 5.0, 'hello', 7]\n"
          ],
          "name": "stdout"
        }
      ]
    },
    {
      "cell_type": "code",
      "metadata": {
        "colab": {
          "base_uri": "https://localhost:8080/"
        },
        "id": "O6ETAD4goT-Z",
        "outputId": "4958613f-afaf-4999-f296-140919eed8c7"
      },
      "source": [
        "print(\"x_list[:-1]:\", x_list[:-1])\r\n",
        "print(\"x_list[1:-1]:\", x_list[1:-1])\r\n",
        "print(\"x_list[2:4]:\", x_list[2:4])"
      ],
      "execution_count": 21,
      "outputs": [
        {
          "output_type": "stream",
          "text": [
            "x_list[:-1]: [1, 'a', 5.0, 'hello']\n",
            "x_list[1:-1]: ['a', 5.0, 'hello']\n",
            "x_list[2:4]: [5.0, 'hello']\n"
          ],
          "name": "stdout"
        }
      ]
    },
    {
      "cell_type": "code",
      "metadata": {
        "colab": {
          "base_uri": "https://localhost:8080/"
        },
        "id": "AHDp3p-ape9K",
        "outputId": "685bc51c-433b-4f16-8b1b-86f3854fbe97"
      },
      "source": [
        "x_tuple = (1, 'A', 5.0)\r\n",
        "print (x_tuple)"
      ],
      "execution_count": 22,
      "outputs": [
        {
          "output_type": "stream",
          "text": [
            "(1, 'A', 5.0)\n"
          ],
          "name": "stdout"
        }
      ]
    },
    {
      "cell_type": "code",
      "metadata": {
        "colab": {
          "base_uri": "https://localhost:8080/"
        },
        "id": "4hM2FgdUpvVU",
        "outputId": "abab9ef0-2dc6-4c0f-e890-33401330f800"
      },
      "source": [
        "x_tuple = x_tuple + (\"hello\", 123456789)\r\n",
        "print (x_tuple)"
      ],
      "execution_count": 23,
      "outputs": [
        {
          "output_type": "stream",
          "text": [
            "(1, 'A', 5.0, 'hello', 123456789)\n"
          ],
          "name": "stdout"
        }
      ]
    },
    {
      "cell_type": "code",
      "metadata": {
        "colab": {
          "base_uri": "https://localhost:8080/"
        },
        "id": "i2pf-wrQp7Gh",
        "outputId": "28e0bad8-97b7-42f7-9b0c-86caa49ae0bd"
      },
      "source": [
        "goku = {\"name\":\"Goku\", \"eye_color\": \"blue\"}\r\n",
        "print (goku)\r\n",
        "print (goku[\"name\"])\r\n",
        "print (goku[\"eye_color\"])"
      ],
      "execution_count": 25,
      "outputs": [
        {
          "output_type": "stream",
          "text": [
            "{'name': 'Goku', 'eye_color': 'blue'}\n",
            "Goku\n",
            "blue\n"
          ],
          "name": "stdout"
        }
      ]
    },
    {
      "cell_type": "code",
      "metadata": {
        "colab": {
          "base_uri": "https://localhost:8080/"
        },
        "id": "1mgBLS_tqUnm",
        "outputId": "543d7b9e-bf3c-4912-bfd0-0b83de0b73db"
      },
      "source": [
        "goku[\"age\"] = 40\r\n",
        "print (goku)"
      ],
      "execution_count": 26,
      "outputs": [
        {
          "output_type": "stream",
          "text": [
            "{'name': 'Goku', 'eye_color': 'blue', 'age': 40}\n"
          ],
          "name": "stdout"
        }
      ]
    },
    {
      "cell_type": "code",
      "metadata": {
        "colab": {
          "base_uri": "https://localhost:8080/"
        },
        "id": "Av77Ossnqrji",
        "outputId": "fe02a1af-a003-4831-f235-48f9657514e4"
      },
      "source": [
        "print(len(goku))"
      ],
      "execution_count": 27,
      "outputs": [
        {
          "output_type": "stream",
          "text": [
            "3\n"
          ],
          "name": "stdout"
        }
      ]
    },
    {
      "cell_type": "code",
      "metadata": {
        "id": "r_D_ajc3quwN"
      },
      "source": [
        "class Robot(object):\r\n",
        "  def __init__(self, name, size, color):\r\n",
        "    self.name = name\r\n",
        "    self.size = size\r\n",
        "    self.color = color\r\n",
        "  def __str__(self):\r\n",
        "    return \"The Robot's name is {0}. It is {1} and {2}\".format(self.name, self.size, self.color)\r\n",
        "  def change_size (self, new_size):\r\n",
        "    self.size = new_size"
      ],
      "execution_count": 31,
      "outputs": []
    },
    {
      "cell_type": "code",
      "metadata": {
        "colab": {
          "base_uri": "https://localhost:8080/"
        },
        "id": "k335q-Turw_B",
        "outputId": "3d97cf26-9a6b-46bd-b60b-ba67c90f8458"
      },
      "source": [
        "Myrobot = Robot(\"Brian\", \"small\", \"black\")\r\n",
        "print (Myrobot)\r\n",
        "Myrobot.change_size(\"big\")\r\n",
        "print (Myrobot.name + \" is becoming \"+ Myrobot.size+\".\")"
      ],
      "execution_count": 35,
      "outputs": [
        {
          "output_type": "stream",
          "text": [
            "The Robot's name is Brian. It is small and black\n",
            "Brian is becoming big.\n"
          ],
          "name": "stdout"
        }
      ]
    },
    {
      "cell_type": "code",
      "metadata": {
        "id": "9vV70DFftRfk"
      },
      "source": [
        ""
      ],
      "execution_count": null,
      "outputs": []
    }
  ]
}